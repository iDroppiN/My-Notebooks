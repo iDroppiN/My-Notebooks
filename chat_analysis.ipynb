{
 "cells": [
  {
   "cell_type": "markdown",
   "metadata": {
    "id": "858hyce-yhA7"
   },
   "source": [
    "# WhatsApp Chat Analysis \n",
    "\n",
    "In this notebook I will be doing a chat analysis and will try to answer some questions related to this chat. I will be using some common python libraries."
   ]
  },
  {
   "cell_type": "markdown",
   "metadata": {
    "id": "XIpn-XkyyhBB"
   },
   "source": [
    "## How to get the data?\n",
    "* Open WhatsApp\n",
    "* Open the group of which you want to the analysis\n",
    "* Click on the three dots on top right corner of your phone\n",
    "* Click on more\n",
    "* Click on export chat\n",
    "* Choose whether you want media or not (in this notebook i will go without media)\n",
    "* Then export the chat wherever you want"
   ]
  },
  {
   "cell_type": "code",
   "execution_count": 1,
   "metadata": {},
   "outputs": [
    {
     "name": "stdout",
     "output_type": "stream",
     "text": [
      "Requirement already satisfied: wordcloud in /opt/conda/lib/python3.8/site-packages (1.8.1)\r\n",
      "Requirement already satisfied: pillow in /opt/conda/lib/python3.8/site-packages (from wordcloud) (8.0.0)\r\n",
      "Requirement already satisfied: numpy>=1.6.1 in /opt/conda/lib/python3.8/site-packages (from wordcloud) (1.19.2)\r\n",
      "Requirement already satisfied: matplotlib in /opt/conda/lib/python3.8/site-packages (from wordcloud) (3.3.2)\r\n",
      "Requirement already satisfied: kiwisolver>=1.0.1 in /opt/conda/lib/python3.8/site-packages (from matplotlib->wordcloud) (1.2.0)\r\n",
      "Requirement already satisfied: python-dateutil>=2.1 in /opt/conda/lib/python3.8/site-packages (from matplotlib->wordcloud) (2.8.1)\r\n",
      "Requirement already satisfied: certifi>=2020.06.20 in /opt/conda/lib/python3.8/site-packages (from matplotlib->wordcloud) (2020.6.20)\r\n",
      "Requirement already satisfied: pyparsing!=2.0.4,!=2.1.2,!=2.1.6,>=2.0.3 in /opt/conda/lib/python3.8/site-packages (from matplotlib->wordcloud) (2.4.7)\r\n",
      "Requirement already satisfied: cycler>=0.10 in /opt/conda/lib/python3.8/site-packages (from matplotlib->wordcloud) (0.10.0)\r\n",
      "Requirement already satisfied: six>=1.5 in /opt/conda/lib/python3.8/site-packages (from python-dateutil>=2.1->matplotlib->wordcloud) (1.15.0)\r\n"
     ]
    }
   ],
   "source": [
    "!pip install wordcloud"
   ]
  },
  {
   "cell_type": "code",
   "execution_count": 2,
   "metadata": {
    "executionInfo": {
     "elapsed": 612,
     "status": "ok",
     "timestamp": 1623914352383,
     "user": {
      "displayName": "Priyansh Jaseja",
      "photoUrl": "",
      "userId": "08417292816303987526"
     },
     "user_tz": -330
    },
    "id": "GsIXZJEG4_G1"
   },
   "outputs": [],
   "source": [
    "import os\n",
    "import jovian\n",
    "import pandas as pd\n",
    "import numpy as np\n",
    "import seaborn as sns\n",
    "import matplotlib\n",
    "import matplotlib.pyplot as plt\n",
    "from wordcloud import WordCloud"
   ]
  },
  {
   "cell_type": "markdown",
   "metadata": {
    "id": "7jboJAazyhBF"
   },
   "source": [
    "### How to run the code\n",
    "\n",
    "This is an executable [*Jupyter notebook*](https://jupyter.org) hosted on [Jovian.ml](https://www.jovian.ml), a platform for sharing data science projects. You can run and experiment with the code in a couple of ways: *using free online resources* (recommended) or *on your own computer*.\n",
    "\n",
    "#### Option 1: Running using free online resources (1-click, recommended)\n",
    "\n",
    "The easiest way to start executing this notebook is to click the \"Run\" button at the top of this page, and select \"Run on Binder\". This will run the notebook on [mybinder.org](https://mybinder.org), a free online service for running Jupyter notebooks. You can also select \"Run on Colab\" or \"Run on Kaggle\".\n",
    "\n",
    "\n",
    "#### Option 2: Running on your computer locally\n",
    "\n",
    "1. Install Conda by [following these instructions](https://conda.io/projects/conda/en/latest/user-guide/install/index.html). Add Conda binaries to your system `PATH`, so you can use the `conda` command on your terminal.\n",
    "\n",
    "2. Create a Conda environment and install the required libraries by running these commands on the terminal:\n",
    "\n",
    "```\n",
    "conda create -n zerotopandas -y python=3.8 \n",
    "conda activate zerotopandas\n",
    "pip install jovian jupyter numpy pandas matplotlib seaborn opendatasets --upgrade\n",
    "```\n",
    "\n",
    "3. Press the \"Clone\" button above to copy the command for downloading the notebook, and run it on the terminal. This will create a new directory and download the notebook. The command will look something like this:\n",
    "\n",
    "```\n",
    "jovian clone notebook-owner/notebook-id\n",
    "```\n",
    "\n",
    "\n",
    "\n",
    "4. Enter the newly created directory using `cd directory-name` and start the Jupyter notebook.\n",
    "\n",
    "```\n",
    "jupyter notebook\n",
    "```\n",
    "\n",
    "You can now access Jupyter's web interface by clicking the link that shows up on the terminal or by visiting http://localhost:8888 on your browser. Click on the notebook file (it has a `.ipynb` extension) to open it.\n"
   ]
  },
  {
   "cell_type": "code",
   "execution_count": 3,
   "metadata": {
    "executionInfo": {
     "elapsed": 3208,
     "status": "ok",
     "timestamp": 1623914355590,
     "user": {
      "displayName": "Priyansh Jaseja",
      "photoUrl": "",
      "userId": "08417292816303987526"
     },
     "user_tz": -330
    },
    "id": "nj09OrpTyhBG"
   },
   "outputs": [],
   "source": [
    "!pip install jovian opendatasets --upgrade --quiet"
   ]
  },
  {
   "cell_type": "markdown",
   "metadata": {
    "id": "ESq9WVJmyhBH"
   },
   "source": [
    "Let's begin by opening the data file, I have alredy uploaded the file with this so I can directly acess it."
   ]
  },
  {
   "cell_type": "markdown",
   "metadata": {
    "id": "yHyAHe9AyhBI"
   },
   "source": [
    "The dataset has been downloaded and extracted."
   ]
  },
  {
   "cell_type": "code",
   "execution_count": 4,
   "metadata": {
    "colab": {
     "base_uri": "https://localhost:8080/"
    },
    "executionInfo": {
     "elapsed": 28,
     "status": "ok",
     "timestamp": 1623914355590,
     "user": {
      "displayName": "Priyansh Jaseja",
      "photoUrl": "",
      "userId": "08417292816303987526"
     },
     "user_tz": -330
    },
    "id": "SEaWDpAIyhBJ",
    "outputId": "24670983-c460-4756-db98-86322c6e4d22"
   },
   "outputs": [
    {
     "data": {
      "text/plain": [
       "['.profile',\n",
       " '.bashrc',\n",
       " '.bash_logout',\n",
       " '.local',\n",
       " '.cache',\n",
       " '.jupyter',\n",
       " 'zerotopandas-course-project.ipynb',\n",
       " '.jovian',\n",
       " '.ipython',\n",
       " '.ipynb_checkpoints',\n",
       " 'Chat.txt',\n",
       " '.jovianrc',\n",
       " 'converted.csv',\n",
       " '.empty',\n",
       " 'work',\n",
       " '.config',\n",
       " '.conda',\n",
       " '.git',\n",
       " '.yarn']"
      ]
     },
     "execution_count": 4,
     "metadata": {},
     "output_type": "execute_result"
    }
   ],
   "source": [
    "os.listdir('.')"
   ]
  },
  {
   "cell_type": "markdown",
   "metadata": {
    "id": "2lwR5u6qyhBK"
   },
   "source": [
    "Let us save and upload our work to Jovian before continuing."
   ]
  },
  {
   "cell_type": "code",
   "execution_count": 5,
   "metadata": {
    "id": "PGsPO48_yhBM"
   },
   "outputs": [],
   "source": [
    "!pip install jovian --upgrade -q"
   ]
  },
  {
   "cell_type": "markdown",
   "metadata": {
    "id": "RfFgky_PyhBQ"
   },
   "source": [
    "## Data Preparation and Cleaning\n",
    "\n",
    "**TODO** - Exported data from the whatsapp is a txt file and is in format which has to be converted in a csv format which can then be easily converted into a pandas dataframe.\n",
    "\n"
   ]
  },
  {
   "cell_type": "code",
   "execution_count": 6,
   "metadata": {
    "id": "zi1SLvpy1pR8"
   },
   "outputs": [],
   "source": [
    "with open('Chat.txt', mode='r') as file:\n",
    "  file_lines = file.readlines()"
   ]
  },
  {
   "cell_type": "code",
   "execution_count": 7,
   "metadata": {
    "id": "5G2qXxAx18Le"
   },
   "outputs": [
    {
     "data": {
      "text/plain": [
       "['12/18/20, 16:26 - Messages and calls are end-to-end encrypted. No one outside of this chat, not even WhatsApp, can read or listen to them. Tap to learn more.\\n',\n",
       " '12/18/20, 15:34 - +91 70450 67635 created group \"CSE A2 batch 2020-24\"\\n',\n",
       " \"12/18/20, 16:26 - You joined using this group's invite link\\n\",\n",
       " \"12/18/20, 16:29 - +91 91603 77724 joined using this group's invite link\\n\",\n",
       " '12/18/20, 16:33 - +91 98207 76270: Please invite whoever you know from A2 batch\\n',\n",
       " '12/18/20, 16:34 - +91 70450 67635: This message was deleted\\n',\n",
       " '12/18/20, 16:34 - +91 94092 60046: Ok\\n',\n",
       " '12/18/20, 16:35 - +91 70450 67635 added +91 99046 43634\\n',\n",
       " \"12/18/20, 16:37 - +91 89789 73243 joined using this group's invite link\\n\",\n",
       " \"12/18/20, 16:40 - +91 91191 44167 joined using this group's invite link\\n\",\n",
       " '12/18/20, 16:41 - +91 95129 35749: Is there any quiz?\\n',\n",
       " '12/18/20, 16:42 - +91 95129 35749: <Media omitted>\\n',\n",
       " \"12/18/20, 16:43 - +91 70176 00211 joined using this group's invite link\\n\",\n",
       " \"12/18/20, 16:45 - +91 73787 76427 joined using this group's invite link\\n\",\n",
       " \"12/18/20, 16:46 - +91 75009 29425 joined using this group's invite link\\n\",\n",
       " \"12/18/20, 16:49 - +91 88560 38177 joined using this group's invite link\\n\",\n",
       " '12/18/20, 16:50 - +91 91191 44167: ???\\n',\n",
       " '12/18/20, 16:53 - +91 82388 85193: English ki assignment ka kutch socha hai??\\n',\n",
       " '12/18/20, 16:57 - +91 98174 15676: ??\\n',\n",
       " \"12/18/20, 17:04 - +91 91097 39116 joined using this group's invite link\\n\",\n",
       " \"12/18/20, 17:20 - +91 91774 97596 joined using this group's invite link\\n\",\n",
       " \"12/18/20, 17:37 - +91 91794 37901 joined using this group's invite link\\n\",\n",
       " \"12/18/20, 18:05 - +91 84216 90101 joined using this group's invite link\\n\",\n",
       " \"12/18/20, 18:52 - +91 90144 84784 joined using this group's invite link\\n\",\n",
       " \"12/19/20, 12:23 - +91 72597 08715 joined using this group's invite link\\n\",\n",
       " '12/21/20, 10:50 - +91 99811 89852: Kal apna ic practical hai kya guys\\n',\n",
       " '12/21/20, 10:51 - +91 98207 76270: hoga hi\\n',\n",
       " '12/21/20, 10:51 - +91 98207 76270: This message was deleted\\n',\n",
       " '12/21/20, 10:51 - +91 98207 76270: maths quiz bhi hai turant\\n',\n",
       " '12/21/20, 10:51 - +91 98207 76270: 😥\\n',\n",
       " '12/21/20, 10:53 - +91 75009 29425: 😔\\n',\n",
       " '12/21/20, 10:54 - Jaseja Priyansh: Haan yrr....\\n',\n",
       " '12/21/20, 10:59 - +91 98174 15676: Ic tutorial ko short rakhne ke liye sir se request karein kya??\\n',\n",
       " '12/21/20, 11:07 - +91 98207 76270: new sir aayenge ? ya pehle wale?\\n',\n",
       " '12/21/20, 11:09 - +91 72597 08715: what happened to chem sir\\n',\n",
       " '12/21/20, 13:20 - +91 95129 35749: Kuch hai ab\\n',\n",
       " '12/21/20, 13:20 - +91 99204 50432: Lagta nahi\\n',\n",
       " '12/21/20, 13:32 - +91 82388 85193: Is there a tutorial or an extra class today?\\n',\n",
       " '12/21/20, 13:34 - Jaseja Priyansh: I think we dont have any extra class for today but we hv one wrkshp of programming club ..\\n',\n",
       " '12/21/20, 13:34 - +91 82388 85193: When/link\\n',\n",
       " '12/21/20, 13:35 - Jaseja Priyansh: 9 to 11\\n',\n",
       " '12/21/20, 13:35 - +91 82388 85193: Ok👍\\n',\n",
       " '12/21/20, 13:41 - +91 98174 15676: Hi, everyone\\n',\n",
       " \"Shouldn't we write mail either to ic sir or math's sir about the timings of  maths quiz and ic tutorial?\\n\",\n",
       " '12/21/20, 13:42 - +91 95129 35749: ++\\n',\n",
       " '12/21/20, 13:43 - +91 98174 15676: We have to choose our batch cr for that\\n',\n",
       " '12/21/20, 13:43 - +91 98174 15676: To avoid individual mails\\n',\n",
       " '12/21/20, 13:44 - +91 98174 15676: ASAP\\n',\n",
       " '12/21/20, 13:44 - +91 95129 35749: Would you be our CR? 💍\\n',\n",
       " '12/21/20, 13:45 - +91 98207 76270: maths sir wont change change now\\n',\n",
       " '12/21/20, 13:45 - +91 98207 76270: I asked him\\n',\n",
       " '12/21/20, 13:45 - +91 98174 15676: Then we should write. to ic sir\\n',\n",
       " '12/21/20, 13:46 - +91 98174 15676: Either to take tutorial on Wednesday or to keep the tutorial short\\n',\n",
       " '12/21/20, 13:46 - Jaseja Priyansh: But we also dont know our new ic sir na ... ....\\n',\n",
       " '12/21/20, 13:46 - +91 98207 76270: short will be better😅\\n',\n",
       " '12/21/20, 13:46 - +91 98207 76270: ya\\n',\n",
       " '12/21/20, 13:46 - +91 99204 50432: That too\\n',\n",
       " '12/21/20, 13:47 - +91 98174 15676: We can ask satyanarayan patel sir. He can ask new sir\\n',\n",
       " '12/21/20, 13:47 - +91 95129 35749: But BR MUST ASK\\n',\n",
       " '12/21/20, 13:47 - Jaseja Priyansh: Yaaa... that can be an option\\n',\n",
       " '12/21/20, 13:47 - +91 95129 35749: BR batch representative\\n',\n",
       " \"12/21/20, 13:48 - +91 99204 50432: I wonder what will take place in tomorrow's tutorial tho\\n\",\n",
       " '12/21/20, 13:49 - +91 98174 15676: Planes and lines\\n',\n",
       " '12/21/20, 13:49 - +91 98174 15676: We have to elect him or her\\n',\n",
       " '12/21/20, 13:49 - +91 99204 50432: Hmm probably the new sir will continue with it\\n',\n",
       " '12/21/20, 13:51 - +91 95129 35749: Are you ready to be the Batch representative?\\n',\n",
       " '12/21/20, 13:52 - +91 98174 15676: For now, I am mailing ic sir. \\n',\n",
       " 'After that we can do polling for BR\\n',\n",
       " '12/21/20, 13:52 - +91 95129 35749: Yeah sure\\n',\n",
       " '12/21/20, 14:48 - +91 72597 08715: Are you sure the math quiz will happen in tutorial and not in lecture class\\n',\n",
       " '12/21/20, 15:20 - +91 98207 76270: maths quiz in at 7pm\\n',\n",
       " '12/21/20, 15:20 - +91 98207 76270: This message was deleted\\n',\n",
       " '12/21/20, 15:20 - +91 98207 76270: is*\\n',\n",
       " '12/21/20, 15:22 - +91 98207 76270: neither in in tut nor in class\\n',\n",
       " '12/21/20, 16:01 - +91 72597 08715: oh ok\\n',\n",
       " '12/21/20, 20:54 - +91 98207 76270: any reply?\\n',\n",
       " '12/21/20, 21:01 - +91 98174 15676: Satyanarayan sir had forwarded that mail to another sir. But there is no reply of that sir yet\\n',\n",
       " '12/22/20, 09:40 - +91 75009 29425: Yay\\n',\n",
       " '12/22/20, 09:40 - +91 75009 29425: No tutorial today\\n',\n",
       " '12/22/20, 09:41 - +91 75009 29425: There is combined tutorial tommorow\\n',\n",
       " '12/22/20, 09:41 - +91 82388 85193: Batch A2 will get less time\\n',\n",
       " '12/22/20, 09:42 - +91 75009 29425: They will most likely extend it for us\\n',\n",
       " '12/22/20, 09:42 - +91 95129 35749: So A2 has no tutorials today am I right?\\n',\n",
       " '12/22/20, 09:42 - +91 75009 29425: Yes\\n',\n",
       " 'We have both math and IC tommorow\\n',\n",
       " '12/22/20, 09:42 - +91 82388 85193: Yeah, ig\\n',\n",
       " '12/22/20, 09:43 - Jaseja Priyansh: From where do u get this info.\\n',\n",
       " '12/22/20, 09:44 - +91 75009 29425: IC class right now\\n',\n",
       " '12/22/20, 09:44 - Jaseja Priyansh: Ohh shit...\\n',\n",
       " '12/22/20, 09:44 - +91 82388 85193: Sir announced in class\\n',\n",
       " '12/22/20, 09:44 - +91 84216 90101: Class started?\\n',\n",
       " '12/22/20, 09:45 - +91 75009 29425: Yes\\n',\n",
       " '12/22/20, 09:45 - +91 84216 90101: It was from 10 right?\\n',\n",
       " '12/22/20, 09:45 - +91 82388 85193: No\\n',\n",
       " '12/22/20, 09:45 - +91 94092 60046: Nope\\n',\n",
       " '12/22/20, 09:45 - +91 82388 85193: 9:30 always\\n',\n",
       " '12/22/20, 09:45 - +91 75009 29425: Well it was at 10\\n',\n",
       " 'But it has always been starting from 9:30 for some reason\\n',\n",
       " '12/22/20, 09:45 - +91 75009 29425: 🤷🏻\\u200d♂️\\n',\n",
       " '12/22/20, 09:46 - +91 84216 90101: Hmm ok..\\n',\n",
       " \"12/22/20, 09:46 - +91 82388 85193: Hasn't it been 9:30 except the first class\\n\",\n",
       " '12/22/20, 09:47 - +91 91794 37901: Come fast, abhi sir bas general baat discuss kar rahe Haan, he said he will wait till 10\\n',\n",
       " '12/22/20, 09:47 - +91 75009 29425: Idk the time table says 10\\n',\n",
       " 'Sir only said 9:30 for 1st and 8th December as far as I remember\\n',\n",
       " \"12/22/20, 09:48 - +91 82388 85193: In next class after 8th he said always come at 9:30 and we'll start at 9:45\\n\",\n",
       " '12/22/20, 09:50 - +91 84216 90101: He is extra-punctual I presume😂\\n',\n",
       " '12/22/20, 09:51 - +91 82388 85193: I hope your presumption cones true\\n',\n",
       " '12/22/20, 09:51 - +91 84216 90101: Did he say anything about sharing the slides\\n',\n",
       " \"12/22/20, 09:51 - +91 84216 90101: Probably he won't share it too..\\n\",\n",
       " '12/22/20, 10:01 - +91 75009 29425: I see\\n',\n",
       " '12/22/20, 10:03 - +91 98174 15676: Ic link please?\\n',\n",
       " '12/22/20, 10:14 - +91 72597 08715: Same as before\\n',\n",
       " '12/22/20, 10:14 - +91 98174 15676: Ok\\n',\n",
       " \"12/22/20, 10:33 - +91 79958 58869 joined using this group's invite link\\n\",\n",
       " '12/22/20, 11:09 - +91 98174 15676: Cs lecture started?\\n',\n",
       " \"12/22/20, 11:10 - +91 77940 17878 joined using this group's invite link\\n\",\n",
       " '12/22/20, 11:10 - +91 99046 43634: Yes\\n',\n",
       " '12/22/20, 13:03 - +91 89789 73243: no ic tutorial today?\\n',\n",
       " '12/22/20, 13:03 - +91 70176 00211: No\\n',\n",
       " '12/22/20, 13:03 - +91 89789 73243: so tmrw?\\n',\n",
       " '12/22/20, 13:04 - +91 70176 00211: Yes\\n',\n",
       " '12/22/20, 13:04 - +91 89789 73243: ok thanks\\n',\n",
       " '12/22/20, 13:04 - +91 73787 76427: Confirmed na???\\n',\n",
       " '12/22/20, 13:04 - +91 70176 00211: Haan\\n',\n",
       " '12/22/20, 19:50 - +91 82388 85193: <Media omitted>\\n',\n",
       " \"12/22/20, 19:51 - +91 91191 44167: Yrr ye ma'am to hume nalle hi samjh rkha h\\n\",\n",
       " '12/22/20, 19:52 - +91 99204 50432: Peace prize lecture ke time pe hamara ic tutorial ha\\n',\n",
       " '12/22/20, 19:52 - +91 91191 44167: Wahi na yrr\\n',\n",
       " \"12/22/20, 19:52 - +91 82388 85193: Koi ma'am ko mail karo\\n\",\n",
       " '12/22/20, 19:56 - +91 99204 50432: Are haa dono ke time pe busy hai, morning me class\\n',\n",
       " '12/22/20, 19:56 - +91 99204 50432: hai\\n',\n",
       " '12/22/20, 19:57 - +91 82388 85193: ⁉️⁉️\\n',\n",
       " \"12/22/20, 19:59 - +91 85869 85911 joined using this group's invite link\\n\",\n",
       " '12/22/20, 20:02 - Jaseja Priyansh: Sahi lah rha bhai\\n',\n",
       " '12/22/20, 20:02 - Jaseja Priyansh: Kah*\\n',\n",
       " \"12/22/20, 20:06 - +91 82388 85193: Cr/br ko bolo ma'am ko mail kare\\n\",\n",
       " '12/22/20, 20:06 - +91 85869 85911: Who is BR?\\n',\n",
       " '12/22/20, 20:06 - +91 82388 85193: Idk\\n',\n",
       " '12/22/20, 20:07 - +91 99204 50432: I think @917794017878\\n',\n",
       " \"12/22/20, 20:10 - +91 70462 44503 joined using this group's invite link\\n\",\n",
       " \"12/22/20, 20:10 - +91 72066 37556 joined using this group's invite link\\n\",\n",
       " \"12/22/20, 20:10 - +91 99667 37566 joined using this group's invite link\\n\",\n",
       " \"12/22/20, 20:10 - +91 99990 60533 joined using this group's invite link\\n\",\n",
       " '12/22/20, 20:10 - +91 85869 85911: Kam se Kam usko Admin to banado🤣\\n',\n",
       " \"12/22/20, 20:19 - +91 80900 73858 joined using this group's invite link\\n\",\n",
       " \"12/22/20, 20:47 - +91 89593 92002 joined using this group's invite link\\n\",\n",
       " \"12/22/20, 20:49 - +91 87009 83822 joined using this group's invite link\\n\",\n",
       " '12/22/20, 20:55 - +91 82388 85193: <Media omitted>\\n',\n",
       " \"12/22/20, 21:18 - +91 83746 93487 joined using this group's invite link\\n\",\n",
       " \"12/22/20, 21:22 - +91 70288 13464 joined using this group's invite link\\n\",\n",
       " \"12/22/20, 22:07 - +91 99595 37918 joined using this group's invite link\\n\",\n",
       " '12/23/20, 10:38 - +91 99811 89852: To fir aaj 2 se 3 maths tutorial and after that ic practical\\n',\n",
       " '12/23/20, 10:38 - +91 99811 89852: Correct?\\n',\n",
       " '12/23/20, 10:42 - +91 84216 90101: Yeah\\n',\n",
       " '12/23/20, 10:55 - +91 82388 85193: Yes\\n',\n",
       " '12/23/20, 11:02 - +91 75009 29425: What did sir say about tutorial??\\n',\n",
       " 'I missed it\\n',\n",
       " '12/23/20, 11:02 - +91 87009 83822: Har section se 1 hi question krna h\\n',\n",
       " '12/23/20, 11:02 - +91 87009 83822: So total 5 questions krne h\\n',\n",
       " '12/23/20, 11:02 - +91 70462 44503: 5 ques kar rhe\\n',\n",
       " '12/23/20, 11:03 - +91 75009 29425: 🤔\\n',\n",
       " '12/23/20, 11:03 - +91 70462 44503: 🤦🏻\\u200d♂️🤦🏻\\u200d♂️🤦🏻\\u200d♂️🤦🏻\\u200d♂️🤦🏻\\u200d♂️\\n',\n",
       " '12/23/20, 11:03 - +91 75009 29425: Deadline?\\n',\n",
       " '12/23/20, 11:03 - +91 70462 44503: Normal\\n',\n",
       " '12/23/20, 11:03 - +91 70462 44503: Jaisi hoti\\n',\n",
       " '12/23/20, 11:03 - +91 87009 83822: Aaj hi ki hogi\\n',\n",
       " '12/23/20, 11:03 - +91 75009 29425: Ok\\n',\n",
       " \"12/23/20, 11:08 - +91 83746 93487: Does anybody's ic third tutorial has corrected?.\\n\",\n",
       " '12/23/20, 11:09 - +91 70176 00211: This message was deleted\\n',\n",
       " '12/23/20, 11:10 - +91 70462 44503: ++\\n',\n",
       " '12/23/20, 11:13 - +91 87009 83822: A4 sheet pe bhi title block bnana h kya ?\\n',\n",
       " '12/23/20, 11:14 - +91 91097 39116: +1\\n',\n",
       " \"12/23/20, 12:33 - +91 84216 90101: did anyone receive previous tut's checked sheets?\\n\",\n",
       " '12/23/20, 12:33 - +91 84216 90101: (ic)\\n',\n",
       " '12/23/20, 12:36 - +91 91097 39116: No\\n',\n",
       " '12/23/20, 13:57 - +91 75009 29425: Link for maths?\\n',\n",
       " '12/23/20, 13:57 - +91 98174 15676: https://meet.google.com/bxp-kdws-cwn\\n',\n",
       " '12/23/20, 13:58 - +91 77940 17878: https://meet.google.com/bxp-kdws-cwn\\n',\n",
       " '12/23/20, 14:02 - +91 75009 29425: Thanks\\n',\n",
       " '12/23/20, 14:58 - +91 75009 29425: IC link?\\n',\n",
       " '12/23/20, 14:59 - +91 72066 37556: Please\\n',\n",
       " '12/23/20, 14:59 - +91 82388 85193: Old one\\n',\n",
       " '12/23/20, 15:00 - +91 98207 76270: we can solve any of each section?\\n',\n",
       " '12/23/20, 15:00 - +91 82388 85193: Do we have to start drawing or what\\n',\n",
       " '12/23/20, 15:00 - +91 99811 89852: http://meet.google.com/ign-jxpq-jsg\\n',\n",
       " '12/23/20, 15:02 - +91 82388 85193: In section A which one should we do\\n',\n",
       " '12/23/20, 15:02 - +91 98207 76270: wait I will ask\\n',\n",
       " '12/23/20, 15:03 - +91 70462 44503: Ok\\n',\n",
       " '12/23/20, 15:03 - +91 82388 85193: Which one would be easier, we may do same questions help each other out.\\n',\n",
       " '12/23/20, 15:07 - +91 91097 39116: sir ne kuch bola kya me late join hua\\n',\n",
       " \"12/23/20, 15:08 - +91 82388 85193: No, sir isn't there\\n\",\n",
       " '12/23/20, 15:08 - +91 91097 39116: we have to start drawing??\\\\\\n',\n",
       " '12/23/20, 15:09 - +91 82388 85193: Yes\\n',\n",
       " '12/23/20, 15:09 - +91 95116 38158: I think 3rd\\n',\n",
       " '12/23/20, 15:10 - +91 82388 85193: In third face is inclined\\n',\n",
       " 'In second edge is inclined\\n',\n",
       " '12/23/20, 15:10 - +91 75009 29425: Which is easier?\\n',\n",
       " '12/23/20, 15:10 - +91 98207 76270: 3\\n',\n",
       " '12/23/20, 15:11 - +91 95116 38158: 3rd is easy\\n',\n",
       " '12/23/20, 15:11 - +91 98207 76270: on Q9 how can hexagonal pyramid have a rectangular face?\\n',\n",
       " '12/23/20, 15:11 - +91 98207 76270: in*\\n',\n",
       " '12/23/20, 15:11 - +91 85869 85911: Yeah\\n',\n",
       " '12/23/20, 15:12 - +91 82388 85193: ..\\n',\n",
       " '12/23/20, 15:12 - +91 82388 85193: Side faces are rectangular\\n',\n",
       " '12/23/20, 15:13 - +91 99204 50432: 🎊\\n',\n",
       " '12/23/20, 15:13 - +91 84216 90101: Maja = maja + 1\\n',\n",
       " '12/23/20, 15:13 - +91 99811 89852: Kya section E attempt nahi karna hai na\\n',\n",
       " '12/23/20, 15:14 - +91 98207 76270: so everyome is doing Q3?\\n',\n",
       " '12/23/20, 15:14 - +91 84216 90101: Lol yes\\n',\n",
       " '12/23/20, 15:16 - +91 75009 29425: Yea\\n',\n",
       " '12/23/20, 15:18 - +91 99204 50432: Yes\\n',\n",
       " '12/23/20, 15:18 - +91 89789 73243: what is the deadline of submission?\\n',\n",
       " '12/23/20, 15:18 - +91 75009 29425: Ye 2nd waala kisne puch liya\\n',\n",
       " '12/23/20, 15:19 - +91 75009 29425: <Media omitted>\\n',\n",
       " '12/23/20, 15:20 - +91 75009 29425: Damn\\n',\n",
       " \"Why can't we get to use the software that sir is using\\n\",\n",
       " '12/23/20, 15:21 - +91 73787 76427: plz send the ic link\\n',\n",
       " '12/23/20, 15:22 - +91 82388 85193: Old one\\n',\n",
       " '12/23/20, 15:22 - +91 99204 50432: meet.google.com/ign-jxpq-jsg\\n',\n",
       " '12/23/20, 15:22 - +91 75009 29425: Scroll up\\n',\n",
       " '12/23/20, 15:22 - +91 75009 29425: Nvm\\n',\n",
       " '12/23/20, 15:23 - +91 99204 50432: Ooh someone had sent it already\\n',\n",
       " '12/23/20, 15:29 - +91 82388 85193: Has someone did the 3rd one?\\n',\n",
       " '12/23/20, 15:29 - +91 99204 50432: Doing\\n',\n",
       " '12/23/20, 15:29 - +91 84216 90101: Done\\n',\n",
       " '12/23/20, 15:29 - +91 84216 90101: <Media omitted>\\n',\n",
       " '12/23/20, 15:30 - +91 82388 85193: 👍\\n',\n",
       " \"12/23/20, 15:30 - +91 84216 90101: Oops  didn't draw center line\\n\",\n",
       " '12/23/20, 15:36 - +91 82388 85193: This message was deleted\\n',\n",
       " '12/23/20, 15:38 - +91 82388 85193: Has anyone done with 4.\\n',\n",
       " '12/23/20, 15:44 - +91 84216 90101: Ye kon puch raha hai title block yaar🤦🏻\\u200d♂️\\n',\n",
       " '12/23/20, 15:49 - +91 75009 29425: Anyone done 4?\\n',\n",
       " 'Pls send\\n',\n",
       " '12/23/20, 15:50 - +91 73787 76427: <Media omitted>\\n',\n",
       " \"12/23/20, 15:51 - +91 75009 29425: Won't we also need to do side projection?\\n\",\n",
       " '12/23/20, 15:53 - +91 84216 90101: No need\\n',\n",
       " '12/23/20, 15:53 - +91 84216 90101: We do it of none of the planes define the shape\\n',\n",
       " '12/23/20, 15:53 - Jaseja Priyansh: I think axis is missing\\n',\n",
       " '12/23/20, 15:54 - +91 98207 76270: hidden lines are 3-1-3-1?\\n',\n",
       " '12/23/20, 15:54 - +91 84216 90101: .\\n',\n",
       " '12/23/20, 15:54 - Jaseja Priyansh: Oh i was just confirming \\n',\n",
       " 'Thanks\\n',\n",
       " '12/23/20, 15:54 - +91 89789 73243: Just draw equal intervals, no one can measure\\n',\n",
       " '12/23/20, 15:54 - +91 85869 85911: Do we need to make 12 lines?\\n',\n",
       " '12/23/20, 15:56 - +91 84216 90101: Which line?\\n',\n",
       " '12/23/20, 15:58 - +91 85869 85911: 12 projecting lines, like it was in the ppt shared by sir\\n',\n",
       " '12/23/20, 15:58 - +91 99204 50432: It was for inclined axis\\n',\n",
       " '12/23/20, 15:59 - +91 84216 90101: Yeah, here axis is parallel\\n',\n",
       " '12/23/20, 16:01 - +91 91097 39116: ye sir pehle kyu nahi aaye\\n',\n",
       " '12/23/20, 16:02 - +91 73787 76427: Ekdam sahi bol raha he\\n',\n",
       " '12/23/20, 16:03 - +91 98207 76270: hana\\n',\n",
       " '12/23/20, 16:03 - +91 98207 76270: vihaan c and d in FV ulta hai\\n',\n",
       " '12/23/20, 16:04 - Jaseja Priyansh: Bs ab phy vale bhi badal jaye\\n',\n",
       " '12/23/20, 16:06 - +91 84216 90101: Yes, thanks nishit\\n',\n",
       " \"12/23/20, 16:06 - +91 82388 85193: But in question 5 isn't the axis parallel to VP\\n\",\n",
       " '12/23/20, 16:08 - +91 95129 35749: This is the measurement of centre line ig\\n',\n",
       " '12/23/20, 16:08 - +91 95129 35749: 6-6-6-6 is of hidden line.\\n',\n",
       " '12/23/20, 16:09 - +91 82388 85193: What will be the whole figure of Q5\\n',\n",
       " '12/23/20, 16:10 - +91 99204 50432: Btw in the method sir was showing, what was the length of the perpendicular sides of the initial triangle?\\n',\n",
       " '12/23/20, 16:10 - +91 82388 85193: 30 ig\\n',\n",
       " '12/23/20, 16:10 - +91 98207 76270: side of n gon\\n',\n",
       " '12/23/20, 16:11 - +91 99204 50432: Oh thanks!\\n',\n",
       " '12/23/20, 16:19 - +91 70462 44503: Abe centre se axis ka distance?\\n',\n",
       " '12/23/20, 16:19 - +91 70462 44503: 45?\\n',\n",
       " '12/23/20, 16:19 - +91 84216 90101: Haan\\n',\n",
       " '12/23/20, 16:19 - +91 70462 44503: Ok\\n',\n",
       " '12/23/20, 16:20 - +91 84216 90101: Abhi Patel sir se mil ke bolo particularity ke baare me😂\\n',\n",
       " '12/23/20, 16:20 - +91 75009 29425: What exactly is 45?\\n',\n",
       " \"12/23/20, 16:21 - +91 75009 29425: If the axis is parallel to VP won't the hexagon come in Top View?\\n\",\n",
       " '12/23/20, 16:23 - +91 75009 29425: Someone?\\n',\n",
       " '12/23/20, 16:23 - +91 70462 44503: Abe ye pakka sahi hai na??\\n',\n",
       " '12/23/20, 16:24 - +91 98207 76270: rect rests on HP\\n',\n",
       " '12/23/20, 16:26 - +91 75009 29425: How can axis be parallel to VP then?\\n',\n",
       " '12/23/20, 16:28 - +91 70450 67635: What did sir mean by we have tut tomm too?\\n',\n",
       " '12/23/20, 16:30 - +91 84216 90101: I was about to ask the same😃\\n',\n",
       " '12/23/20, 16:31 - +91 73787 76427: Sir toh sachme bohot acche hai\\n',\n",
       " '12/23/20, 16:31 - +91 75009 29425: Someone pls explain this one to me\\n',\n",
       " '12/23/20, 16:32 - +91 84216 90101: Distance of axis from vp\\n',\n",
       " '12/23/20, 16:32 - +91 84216 90101: So hexagon ke centre aur vertical line ke beech ka distance bhi same hai\\n',\n",
       " '12/23/20, 16:32 - +91 84216 90101: Via translation\\n',\n",
       " '12/23/20, 16:34 - +91 70450 67635: Can anyone hear sir\\n',\n",
       " '12/23/20, 16:34 - +91 75009 29425: Can you send a pic?\\n',\n",
       " \"I can't visualise it\\n\",\n",
       " '12/23/20, 16:34 - +91 99204 50432: No\\n',\n",
       " '12/23/20, 16:34 - +91 82388 85193: I think sir is mited\\n',\n",
       " '12/23/20, 16:34 - +91 82388 85193: Muted*\\n',\n",
       " '12/23/20, 16:34 - +91 82388 85193: Tell him\\n',\n",
       " '12/23/20, 16:34 - +91 99204 50432: <Media omitted>\\n',\n",
       " '12/23/20, 16:35 - +91 99204 50432: @917500929425\\n',\n",
       " '12/23/20, 16:35 - +91 75009 29425: Thanks\\n',\n",
       " \"12/23/20, 16:36 - +91 75009 29425: Isn't that profile plane though?\\n\",\n",
       " '12/23/20, 16:37 - +91 99204 50432: Yeah it is like a side view (the hexagon)\\n',\n",
       " '12/23/20, 16:37 - +91 99204 50432: From the side we can see that dist of axis from VP (vertical line) is 45mm\\n',\n",
       " '12/23/20, 16:38 - +91 75009 29425: Oooh\\n',\n",
       " 'Ok I understood it now\\n',\n",
       " 'Thx\\n',\n",
       " '12/23/20, 16:39 - +91 72597 08715: Should we draw the hexagon in the way sir told only\\n',\n",
       " '12/23/20, 16:46 - +91 99595 37918: We need not submit right?\\n',\n",
       " '12/23/20, 16:47 - +91 99811 89852: Kya gajab sir hai 7 30 🤣\\n',\n",
       " '12/23/20, 16:48 - +91 70176 00211: 8\\n',\n",
       " '12/23/20, 16:51 - +91 84216 90101: This tutorial was not torturous at all😃\\n',\n",
       " '12/23/20, 16:51 - +91 98174 15676: Ya\\n',\n",
       " '12/23/20, 16:52 - +91 95129 35749: So are we supposed to submit by 9 PM right?\\n',\n",
       " '12/23/20, 16:52 - +91 70176 00211: 8\\n',\n",
       " '12/23/20, 16:52 - +91 99204 50432: Ekdum sahi\\n',\n",
       " '12/23/20, 16:52 - +91 95129 35749: And overall 4 questions are to be submitted?\\n',\n",
       " '12/23/20, 16:52 - +91 73787 76427: Deel di to kitni bhi lega Kya😂😂😂\\n',\n",
       " '12/23/20, 16:53 - +91 95129 35749: No actually a random guy interrupted me and I had to go to see who is at the door as I m alone at home so I missed what was told.\\n',\n",
       " '12/23/20, 16:53 - +91 82388 85193: <Media omitted>\\n',\n",
       " '12/23/20, 16:53 - +91 73787 76427: Just kidding aa\\n',\n",
       " '12/23/20, 16:53 - +91 95129 35749: Anyways we have to submit 4 answers?\\n',\n",
       " '12/23/20, 16:54 - +91 70176 00211: 5 ka answer bhej do\\n',\n",
       " '12/23/20, 16:55 - +91 95129 35749: 5th main profile deni hai?\\n',\n",
       " '12/23/20, 16:55 - +91 95129 35749: This is the solution I guess\\n',\n",
       " '12/23/20, 16:56 - +91 99811 89852: Math class kitni baje se hai\\n',\n",
       " '12/23/20, 16:56 - +91 82388 85193: ++\\n',\n",
       " '12/23/20, 16:57 - +91 84216 90101: <Media omitted>\\n',\n",
       " '12/23/20, 16:58 - +91 99204 50432: 7:30\\n',\n",
       " '12/23/20, 16:58 - +91 95129 35749: When we have to draw side view?\\n',\n",
       " '12/23/20, 16:59 - +91 99204 50432: In this q axis was parallel to both HP and VP\\n',\n",
       " 'So we could see the hexagon only from the side\\n',\n",
       " 'And so we had to draw side view\\n',\n",
       " '12/23/20, 17:00 - +91 84216 90101: When both planes are insufficient to describe shape\\n',\n",
       " '12/23/20, 17:00 - +91 84216 90101: Yes\\n',\n",
       " '12/23/20, 17:00 - +91 99204 50432: Oh accha\\n',\n",
       " '12/23/20, 17:01 - +91 98207 76270: 30 and 70 down to up\\n',\n",
       " \"12/23/20, 17:03 - +91 75009 29425: Wouldn't the centre line be used for lines passing through the centre?\\n\",\n",
       " '12/23/20, 17:04 - +91 95129 35749: Okay thanks, I got it.  The elevation and plan were only rectangles so it was not possible to guess that it was a hexagon.\\n',\n",
       " '12/23/20, 17:04 - +91 82388 85193: 👍\\n',\n",
       " '12/23/20, 17:04 - +91 98207 76270: FV?\\n',\n",
       " '12/23/20, 17:05 - +91 98207 76270: in FV it would be visible not center\\n',\n",
       " '12/23/20, 17:05 - +91 72066 37556: At what time do we have our maths class\\n',\n",
       " '12/23/20, 17:05 - +91 98207 76270: 7.30\\n',\n",
       " '12/23/20, 17:05 - +91 98207 76270: 70 is height\\n',\n",
       " '12/23/20, 17:05 - +91 75009 29425: ???\\n',\n",
       " \"I didn't understand\\n\",\n",
       " 'When do we actually use centre line?\\n',\n",
       " '12/23/20, 17:06 - +91 89789 73243: circle centre or axis line ig\\n',\n",
       " '12/23/20, 17:07 - +91 98207 76270: visible line has higher priority so visible not will not be shown\\n',\n",
       " '12/23/20, 17:07 - +91 85869 85911: Is this tutorial 1 or 4?\\n',\n",
       " '12/23/20, 17:07 - +91 98207 76270: visible line*\\n',\n",
       " '12/23/20, 17:09 - +91 84216 90101: 4\\n',\n",
       " '12/23/20, 17:09 - +91 75009 29425: What do you mean?\\n',\n",
       " '12/23/20, 17:09 - +91 70176 00211: This message was deleted\\n',\n",
       " '12/23/20, 17:10 - +91 94092 60046: Please send 6 one\\n',\n",
       " '12/23/20, 17:10 - +91 73787 76427: Will the second line be a hidden line in front veiw???\\n',\n",
       " '12/23/20, 17:11 - +91 82388 85193: This message was deleted\\n',\n",
       " '12/23/20, 17:16 - +91 98207 76270: no ig\\n',\n",
       " '12/23/20, 17:17 - +91 98207 76270: I think dont use  double dash its for PP\\n',\n",
       " '12/23/20, 17:17 - +91 84216 90101: Nope\\n',\n",
       " '12/23/20, 17:17 - +91 82388 85193: Can you draw it in fig\\n',\n",
       " '12/23/20, 17:18 - +91 84216 90101: Hidden line will be under visible\\n',\n",
       " '12/23/20, 17:21 - +91 98207 76270: which view is exactly the left side 2 drawing? like how is the prism for that drawing?\\n',\n",
       " \"12/23/20, 17:23 - +91 82388 85193: I till didn't get it, can you please mark it in the drawing?,🥺🥺\\n\",\n",
       " '12/23/20, 17:23 - +91 98207 76270: no its my doubt😅\\n',\n",
       " '12/23/20, 17:23 - +91 82388 85193: 😅😅\\n',\n",
       " \"12/23/20, 17:23 - Jaseja Priyansh: It is the drawing of the prism  when it's perpendicular to the HP\\n\",\n",
       " '12/23/20, 17:24 - Jaseja Priyansh: I mean when axis is perpendicular to the HP\\n',\n",
       " '12/23/20, 17:24 - +91 98207 76270: <Media omitted>\\n',\n",
       " '12/23/20, 17:25 - Jaseja Priyansh: Yup !!\\n',\n",
       " '12/23/20, 17:25 - +91 98207 76270: pls confirm someone😅\\n',\n",
       " '12/23/20, 17:26 - Jaseja Priyansh: 😅😅\\n',\n",
       " '12/23/20, 17:26 - +91 99204 50432: Yeah\\n',\n",
       " '12/23/20, 17:26 - +91 99811 89852: This message was deleted\\n',\n",
       " '12/23/20, 17:26 - +91 98207 76270: 😦\\n',\n",
       " '12/23/20, 17:27 - +91 99811 89852: Sorry sorry\\n',\n",
       " '12/23/20, 17:27 - +91 99811 89852: 😅\\n',\n",
       " '12/23/20, 17:31 - +91 99811 89852: In 6thnquestion how we have to name the points\\n',\n",
       " '12/23/20, 17:31 - +91 99811 89852: 6th ques\\n',\n",
       " '12/23/20, 17:32 - +91 88560 38177: <Media omitted>\\n',\n",
       " '12/23/20, 17:33 - +91 99811 89852: Thanks bro\\n',\n",
       " '12/23/20, 17:34 - +91 98207 76270: erased the construction of hexagon?\\n',\n",
       " '12/23/20, 17:41 - +91 88560 38177: Woh method compulsory nahi thi na?\\n',\n",
       " \"12/23/20, 17:41 - +91 98174 15676: Don't we have to draw center lines here?\\n\",\n",
       " '12/23/20, 17:41 - +91 98207 76270: nahi thi\\n',\n",
       " '12/23/20, 17:41 - +91 98207 76270: on which one?\\n',\n",
       " '12/23/20, 17:42 - +91 88560 38177: You mean axis line?\\n',\n",
       " '12/23/20, 17:42 - +91 98174 15676: Yes\\n',\n",
       " '12/23/20, 17:42 - +91 98207 76270: visible is over it\\n',\n",
       " '12/23/20, 17:43 - +91 98174 15676: In the final figure\\n',\n",
       " '12/23/20, 17:43 - +91 88560 38177: Ues u right in below one\\n',\n",
       " 'Dot dash line should be there\\n',\n",
       " '12/23/20, 17:43 - +91 88560 38177: Bhul gaya mein\\n',\n",
       " '12/23/20, 17:44 - +91 88560 38177: Meine toh upload kar diya\\n',\n",
       " 'Woh delete hota h kya?\\n',\n",
       " '12/23/20, 17:44 - +91 70462 44503: Han\\n',\n",
       " '12/23/20, 17:44 - +91 75009 29425: Which view is each of them?\\n',\n",
       " '12/23/20, 17:44 - +91 98207 76270: ha\\n',\n",
       " '12/23/20, 17:44 - +91 98207 76270: remove from drive kardo\\n',\n",
       " '12/23/20, 17:44 - +91 88560 38177: Ok thx\\n',\n",
       " '12/23/20, 17:45 - +91 98207 76270: top right labeling should be with dashes?\\n',\n",
       " '12/23/20, 17:47 - +91 88560 38177: <Media omitted>\\n',\n",
       " '12/23/20, 17:47 - +91 88560 38177: Now is this right?\\n',\n",
       " '12/23/20, 17:48 - +91 98174 15676: Niche ki dono figures me numbering same kar sakte hain kya?\\n',\n",
       " '12/23/20, 17:48 - +91 88560 38177: Yes\\n',\n",
       " \"12/23/20, 17:56 - +91 98174 15676: we don't have to make title block, right?\\n\",\n",
       " '12/23/20, 17:56 - +91 98207 76270: we have t9\\n',\n",
       " '12/23/20, 17:57 - +91 88560 38177: 👍\\n',\n",
       " '12/23/20, 18:04 - +91 70462 44503: Yes\\n',\n",
       " '12/23/20, 18:07 - +91 82388 85193: What is the assignment no 1 or 4?\\n',\n",
       " '12/23/20, 18:07 - +91 85869 85911: 4\\n',\n",
       " '12/23/20, 18:09 - +91 99811 89852: Abhi 6. Baje kuch attend karna hai kya\\n',\n",
       " '12/23/20, 18:10 - +91 88560 38177: Photoshop wala workshop h\\n',\n",
       " 'If u r interested\\n',\n",
       " '12/23/20, 18:13 - +91 95129 35749: <Media omitted>\\n',\n",
       " '12/23/20, 18:16 - +91 99046 43634: <Media omitted>\\n',\n",
       " '12/23/20, 18:24 - +91 84216 90101: Which marking?\\n',\n",
       " '12/23/20, 18:25 - +91 70462 44503: Abe sahi hain👍🏻\\n',\n",
       " '12/23/20, 18:26 - +91 98207 76270: abcd\\n',\n",
       " '12/23/20, 18:26 - +91 84216 90101: Anyone who referred to this diagram, I have taken the dimension arrow of 45 beyond the vertical line, which is incorrect. Please make the correction\\n',\n",
       " '12/23/20, 18:26 - +91 98207 76270: or whatever you want to  use\\n',\n",
       " '12/23/20, 18:35 - +91 99046 43634: Okk\\n',\n",
       " '12/23/20, 19:00 - +91 82388 85193: <Media omitted>\\n',\n",
       " '12/23/20, 19:13 - +91 99595 37918: What is this🙄🙄\\n',\n",
       " '12/23/20, 19:13 - +91 75009 29425: +\\n',\n",
       " '12/23/20, 19:14 - +91 82388 85193: A friend sent me phy assignment ig\\n',\n",
       " '12/23/20, 19:33 - +91 98174 15676: Link??\\n',\n",
       " '12/23/20, 19:33 - +91 73787 76427: https://iiti.webex.com/webappng/sites/iiti/meeting/info/ebd7383088bf4db2a0427427a6012256?siteurl=iiti&MTID=m45cd22466439ee3165c14efbd16fd348&meetingAuthToken=QUhTSwAAAASZgna3J6m%2BOtp8Ew3aivspLnQmNoxhoUw0kKeKQtaAO53%2FvmBFSEkpM3xbZp30ILfk09EBAeJYmVbTMV1rM0FmRF27ZpD5HDZrrciGxGMtPmZjbYx0%2BtHfUXWNrLABklndQd%2Bw6zE96YQQHFQ1NYC3uhRZFBCZ6Jdk9uUv92ojkB9sxRutqV2uNVBck7oJUXYonLlHyBnRW2v9NN%2BXX2JvcrYqVNR0TEk0ST7nK6qHFg%3D%3D\\n',\n",
       " '12/23/20, 20:02 - +91 75009 29425: Nice link bro\\n',\n",
       " '12/23/20, 20:02 - +91 70462 44503: 😂😂😂😂\\n',\n",
       " '12/23/20, 20:34 - +91 95129 35749: Kitne baje tak ka class hai?\\n',\n",
       " '12/23/20, 21:22 - +91 72066 37556: Do we have an english class tomorrow\\n',\n",
       " '12/23/20, 21:22 - +91 72066 37556: ??\\n',\n",
       " '12/23/20, 21:26 - +91 84216 90101: Yeah\\n',\n",
       " '12/24/20, 09:10 - +91 80900 73858: <Media omitted>\\n',\n",
       " '12/24/20, 11:04 - +91 98207 76270: in expectation value formula denomimatir is always 1?\\n',\n",
       " '12/24/20, 11:04 - +91 98207 76270: tor*\\n',\n",
       " '12/24/20, 11:05 - +91 89789 73243: Int with dv will give 1, here int is with dx\\n',\n",
       " '12/24/20, 11:07 - +91 98207 76270: int with dx is probability density so it should be 1?\\n',\n",
       " '12/24/20, 11:07 - +91 98207 76270: normalization has same formula and its value is 1 too?\\n',\n",
       " '12/24/20, 11:19 - +91 89789 73243: Normalisation has int with dv( volume)\\n',\n",
       " '12/24/20, 12:06 - +91 77940 17878: int with dv gives 1, if it is 3D schrödinger wave equation and int with dx gives 1 if it is 1D wave equation\\n',\n",
       " '12/24/20, 12:23 - +91 89789 73243: Oh ok, thank you\\n',\n",
       " '12/24/20, 12:50 - +91 98174 15676: If anyone had done 2 q if chemistry, please send\\n',\n",
       " '12/24/20, 14:00 - +91 91097 39116: Have class started\\n',\n",
       " '12/24/20, 14:00 - +91 75009 29425: link?\\n',\n",
       " '12/24/20, 14:01 - +91 91097 39116: Purani wali\\n',\n",
       " '12/24/20, 14:01 - +91 91097 39116: Class wali\\n',\n",
       " '12/24/20, 14:14 - +91 75009 29425: 4th?\\n',\n",
       " 'There have been 3 physics Assignments?\\n',\n",
       " '12/24/20, 14:14 - +91 99204 50432: Yeah\\n',\n",
       " '12/24/20, 14:14 - +91 70176 00211: Ye kab hua\\n',\n",
       " '12/24/20, 14:14 - +91 99204 50432: 1st one ws YDSE stuff\\n',\n",
       " '12/24/20, 14:14 - +91 70176 00211: Are yaad aa gaya\\n',\n",
       " '12/24/20, 14:14 - +91 75009 29425: Oh yeah\\n',\n",
       " 'Just checked\\n',\n",
       " '12/24/20, 14:15 - +91 75009 29425: I had sent all of them to Manushree mam wtf\\n',\n",
       " '12/24/20, 14:16 - +91 75009 29425: Kaunse kisko bhejne hai?\\n',\n",
       " \"12/24/20, 14:16 - +91 99204 50432: Phy waale ke liye it looks like we hv to submit to Ekta ma'am\\n\",\n",
       " '12/24/20, 14:17 - +91 70176 00211: What about first ome\\n',\n",
       " '12/24/20, 14:17 - +91 70176 00211: One\\n',\n",
       " '12/24/20, 14:17 - +91 75009 29425: Which ones do we have to send to which mam?\\n',\n",
       " \"12/24/20, 14:18 - +91 99204 50432: First one i checked, we wr told to send it to Manushree ma'am\\n\",\n",
       " '12/24/20, 14:18 - +91 70176 00211: 2 3 4 to ekta mam\\n',\n",
       " '12/24/20, 14:18 - +91 82388 85193: Is she speaking?\\n',\n",
       " '12/24/20, 14:18 - +91 75009 29425: Yea\\n',\n",
       " '12/24/20, 14:18 - +91 70176 00211: Yes\\n',\n",
       " '12/24/20, 14:18 - +91 75009 29425: Hmm\\n',\n",
       " \"12/24/20, 14:18 - +91 82388 85193: I can't hear\\n\",\n",
       " '12/24/20, 14:19 - +91 70176 00211: Leave kar ke ek aur bar join karlo\\n',\n",
       " '12/24/20, 14:19 - +91 82388 85193: Trying\\n',\n",
       " '12/24/20, 14:24 - +91 95129 35749: Please send me the last question.\\n',\n",
       " '12/24/20, 14:25 - +91 95129 35749: I mean the expression\\n',\n",
       " '12/24/20, 14:26 - +91 94092 60046: <Media omitted>\\n',\n",
       " '12/24/20, 14:27 - +91 95129 35749: 👍\\n',\n",
       " '12/24/20, 14:32 - +91 75009 29425: Is everyone forwarding the tutorials to Ekta mam?\\n',\n",
       " '12/24/20, 14:32 - +91 94092 60046: Yes\\n',\n",
       " '12/24/20, 14:38 - +91 70462 44503: 👍\\n',\n",
       " '12/24/20, 14:52 - +91 98207 76270: a kitna aaya?\\n',\n",
       " '12/24/20, 14:53 - Jaseja Priyansh: Can anyone please send me the questions of assignment\\n',\n",
       " '12/24/20, 14:53 - +91 98207 76270: 2?\\n',\n",
       " \"12/24/20, 14:53 - +91 70450 67635: Shouldn't that -ve sign be outside brackets\\n\",\n",
       " '12/24/20, 14:54 - +91 98207 76270: no\\n',\n",
       " '12/24/20, 14:54 - +91 82388 85193: <Media omitted>\\n',\n",
       " '12/24/20, 14:54 - +91 82388 85193: <Media omitted>\\n',\n",
       " '12/24/20, 14:54 - +91 82388 85193: <Media omitted>\\n',\n",
       " '12/24/20, 14:54 - +91 82388 85193: <Media omitted>\\n',\n",
       " '12/24/20, 14:54 - +91 82388 85193: <Media omitted>\\n',\n",
       " '12/24/20, 14:54 - +91 70462 44503: Alag se jo questions bole the vo bhej do\\n',\n",
       " '12/24/20, 14:54 - +91 82388 85193: .\\n',\n",
       " '12/24/20, 14:54 - +91 82388 85193: .\\n',\n",
       " '12/24/20, 14:55 - Jaseja Priyansh: And yes what was mam telling about the submission of these assignment .....means do we have to submit our past assignment again...???\\n',\n",
       " '12/24/20, 14:55 - Jaseja Priyansh: Thank bro\\n',\n",
       " '12/24/20, 14:55 - +91 70462 44503: 👍\\n',\n",
       " '12/24/20, 14:57 - Jaseja Priyansh: ??\\n',\n",
       " '12/24/20, 14:58 - +91 82388 85193: Idk\\n',\n",
       " '12/24/20, 14:58 - +91 82388 85193: Can anyone else tell??\\n',\n",
       " '12/24/20, 14:59 - +91 95129 35749: And what about assignment 1 woh forward nahi karni as it was taught by Manushree ma’am.\\n',\n",
       " '12/24/20, 14:59 - +91 70176 00211: Nahi\\n',\n",
       " '12/24/20, 14:59 - +91 82388 85193: Ok👍\\n',\n",
       " '12/24/20, 15:00 - +91 70176 00211: We have to forward 2 aur 3 assignment to ekta mam if we have not submitted it to her\\n',\n",
       " '12/24/20, 15:00 - +91 95129 35749: 👍🏻\\n',\n",
       " '12/24/20, 15:00 - +91 72066 37556: Kal ki chhuti hai ya nahi\\n',\n",
       " '12/24/20, 15:00 - +91 75009 29425: Can someone confirm the email ID?\\n',\n",
       " '12/24/20, 15:00 - +91 70462 44503: 🤦🏻\\u200d♂️🤦🏻\\u200d♂️🤦🏻\\u200d♂️🤦🏻\\u200d♂️🤦🏻\\u200d♂️\\n',\n",
       " '12/24/20, 15:00 - +91 70462 44503: Ekta Yadav msc phd\\n',\n",
       " '12/24/20, 15:00 - +91 70462 44503: Likh aajayega\\n',\n",
       " '12/24/20, 15:00 - +91 82388 85193: Hai\\n',\n",
       " '12/24/20, 15:00 - +91 98174 15676: Yes\\n',\n",
       " '12/24/20, 15:00 - +91 82388 85193: <Media omitted>\\n',\n",
       " '12/24/20, 15:03 - +91 82388 85193: <Media omitted>\\n',\n",
       " '12/24/20, 15:04 - Jaseja Priyansh: Okays\\n',\n",
       " '12/24/20, 15:04 - +91 75009 29425: Thx\\n',\n",
       " '12/24/20, 15:04 - +91 94092 60046: Kon hai jisne  dusri English assignment de di h\\n',\n",
       " '12/24/20, 15:05 - +91 82388 85193: <Media omitted>\\n',\n",
       " '12/24/20, 15:05 - +91 82388 85193: <Media omitted>\\n',\n",
       " '12/24/20, 15:05 - +91 70462 44503: +\\n',\n",
       " '12/24/20, 15:05 - +91 82388 85193: These two\\n',\n",
       " '12/24/20, 15:06 - +91 70462 44503: Na\\n',\n",
       " '12/24/20, 15:06 - +91 94092 60046: Na\\n',\n",
       " '12/24/20, 15:06 - +91 70462 44503: Vo wasup vs parts of speech ki baat kar rha\\n',\n",
       " '12/24/20, 15:06 - +91 70462 44503: Ye 2nd\\n',\n",
       " '12/24/20, 15:06 - +91 94092 60046: Kisine ki ho to bhej do\\n',\n",
       " '12/24/20, 15:06 - +91 94092 60046: Thodi mehrbani kar do\\n',\n",
       " '12/24/20, 15:06 - +91 82388 85193: Ye rahi vo\\n',\n",
       " '12/24/20, 15:07 - +91 70462 44503: Ha\\n',\n",
       " \"12/24/20, 15:07 - +91 82388 85193: Haven't started yet will do tomorrow 😅😅\\n\",\n",
       " '12/24/20, 15:07 - +91 70462 44503: Thoda idea mile\\n',\n",
       " '12/24/20, 15:07 - +91 94092 60046: Wohi\\n',\n",
       " \"12/24/20, 15:07 - +91 70450 67635: Do we have to start pixton assignment now...as in that weekly progress etc that ma'am had talked about in the document...when does it become active\\n\",\n",
       " '12/24/20, 15:07 - +91 82388 85193: +\\n',\n",
       " '12/24/20, 15:07 - +91 70462 44503: Same doubt\\n',\n",
       " '12/24/20, 15:08 - +91 82388 85193: +\\n',\n",
       " \"12/24/20, 15:09 - +91 82388 85193: Can someone please ask ma'am at the end of the lecture.\\n\",\n",
       " '12/24/20, 15:09 - +91 99595 37918: What did she say in the starting 5 mins\\n',\n",
       " '12/24/20, 15:09 - +91 99595 37918: I joined late\\n',\n",
       " '12/24/20, 15:09 - +91 94092 60046: Is mam sharing screen?\\n',\n",
       " '12/24/20, 15:09 - +91 91097 39116: Yes\\n',\n",
       " '12/24/20, 15:09 - +91 82388 85193: Started now, dont worry\\n',\n",
       " '12/24/20, 15:10 - +91 82388 85193: Tap the pin icon\\n',\n",
       " '12/24/20, 15:10 - +91 94092 60046: Ok\\n',\n",
       " '12/24/20, 15:10 - +91 82388 85193: <Media omitted>\\n',\n",
       " '12/24/20, 17:46 - +91 98174 15676: In the last practice question in physics tutorial mam is saying about finding the normalizability constant. How to find it? Please tell\\n',\n",
       " '12/24/20, 17:50 - +91 72066 37556: Find the probabilty of the wave function in the complete interval and equate it to 1\\n',\n",
       " '12/24/20, 17:50 - +91 72066 37556: Can someone please tell me what does it mean by saying that a function is normalizable\\n',\n",
       " '12/24/20, 17:52 - +91 98174 15676: <Media omitted>\\n',\n",
       " '12/24/20, 17:53 - +91 72066 37556: Thanks\\n',\n",
       " '12/24/20, 17:53 - +91 85869 85911: Normalizable means that the function is legitimate\\n',\n",
       " 'We are making the the function legitimate by making it satisfy the required condition\\n',\n",
       " 'The required condition is that total proabability is 1\\n',\n",
       " '12/24/20, 18:32 - +91 98174 15676: [Co(NH3) 6]2+  \\n',\n",
       " 'Low spin or high spin?\\n',\n",
       " '12/24/20, 18:33 - +91 85869 85911: The seventh electron will be transferred from 3d to 4d and nh3 will act as SFL.\\n',\n",
       " \"That's why it should be low spin.\\n\",\n",
       " ' Mere hisaab se aisa hota hai\\n',\n",
       " '12/24/20, 18:36 - +91 98174 15676: You are talking about transference of electron, right? \\n',\n",
       " 'In which if we are getting inner orbital complex after transferring only one electron, then we do it.\\n',\n",
       " '12/24/20, 18:42 - +91 85869 85911: Yeah\\n',\n",
       " '12/24/20, 18:44 - Jaseja Priyansh: But i think it is an exception.\\n',\n",
       " 'In this NH3 acts as an WFL with Co+2\\n',\n",
       " \"12/24/20, 18:45 - +91 98174 15676: I think it's only with Fe2+&Mn2+\\n\",\n",
       " '12/24/20, 18:46 - +91 85869 85911: Yeah\\n',\n",
       " '12/24/20, 18:47 - Jaseja Priyansh: In our coaching we were taught that NH3 acts as WFL with Fe+2 , Cr+2, Mn+2 and Co+2\\n',\n",
       " '12/24/20, 18:49 - +91 85869 85911: In our coaching we were taught that in [Co(NH3) 6]2+  Transferrence of electron takes place. Now we are trapped in a dilemma of 2 contradicting thoughts\\n',\n",
       " '12/24/20, 18:49 - Jaseja Priyansh: Lets check on internet na ..\\n',\n",
       " '12/24/20, 18:50 - +91 98174 15676: Anyone done  2  question of chemistry assignment?\\n',\n",
       " '12/24/20, 18:56 - Jaseja Priyansh: I think you are right ....\\n',\n",
       " '12/24/20, 18:55 - +91 95129 35749: <Media omitted>\\n',\n",
       " '12/24/20, 18:55 - +91 95129 35749: Please say me is it correct?\\n',\n",
       " '12/24/20, 18:55 - +91 85869 85911: No\\n',\n",
       " '12/24/20, 18:56 - +91 95129 35749: Solution?\\n',\n",
       " '12/24/20, 18:56 - +91 85869 85911: dxy will come down with d x2-y2\\n',\n",
       " '12/24/20, 18:57 - +91 95129 35749: Yes yes now I get it.\\n',\n",
       " '12/24/20, 18:57 - +91 85869 85911: 👍🏻\\n',\n",
       " '12/24/20, 18:57 - +91 70176 00211: Same energy right\\n',\n",
       " '12/24/20, 18:58 - +91 85869 85911: Ya\\n',\n",
       " '12/24/20, 19:03 - +91 98174 15676: Why same energy?\\n',\n",
       " '12/24/20, 19:03 - +91 72066 37556: <Media omitted>\\n',\n",
       " '12/24/20, 19:03 - +91 72066 37556: Can someone please tell how to do Q10\\n',\n",
       " '12/24/20, 19:04 - +91 98174 15676: Ligands are in axial direction\\n',\n",
       " 'So, relatively d(x2-y2) will feel more repulsion than d(xy)\\n',\n",
       " '12/24/20, 19:07 - +91 95129 35749: 😕😕😕\\n',\n",
       " '12/24/20, 19:08 - +91 85869 85911: The axial direction we are choosing is not X axis or Y axis it is z axis\\n',\n",
       " '12/24/20, 19:08 - +91 70462 44503: Acha\\n',\n",
       " '12/24/20, 19:08 - +91 88560 38177: We were also taught same\\n',\n",
       " '12/24/20, 19:09 - +91 70462 44503: Okay👍\\n',\n",
       " '12/24/20, 19:09 - +91 85869 85911: Divide the energy formula by reduced mass of (hydrogen atom) and multiply by reduced mass of (positronium atom) to get relevant energy formula\\n',\n",
       " '12/24/20, 19:09 - +91 88560 38177: Exception is only for mn2+ and fe2+ ig\\n',\n",
       " '12/24/20, 19:10 - +91 98174 15676: Got it, thanks\\n',\n",
       " '12/24/20, 19:13 - +91 95129 35749: This electron count is same as the number of electrons donated by the ligands right?\\n',\n",
       " '12/24/20, 19:18 - +91 98174 15676: I think valence electrons of metal\\n',\n",
       " '12/24/20, 19:33 - +91 98207 76270: This message was deleted\\n',\n",
       " '12/24/20, 19:35 - +91 98207 76270: Q3 1 direvt answer likhna hai?\\n',\n",
       " '12/24/20, 19:44 - +91 85869 85911: Ya\\n',\n",
       " '12/24/20, 19:45 - +91 85869 85911: 18 electrons aa rahe honge Nishit\\n',\n",
       " '12/24/20, 19:49 - +91 98207 76270: ha sry Rh  hai  maine Ru liya d6s2\\n',\n",
       " '12/24/20, 20:06 - +91 94092 60046: Ye chem ki assignment kisko bhejni h?\\n',\n",
       " \"12/24/20, 20:07 - +91 85869 85911: Ekta ma'am ko\\n\",\n",
       " '12/24/20, 20:08 - +91 94092 60046: Ok\\n',\n",
       " '12/24/20, 20:09 - +91 73787 76427: Mail??\\n',\n",
       " '12/24/20, 20:14 - +91 85869 85911: Ya\\n',\n",
       " '12/24/20, 20:17 - +91 91794 37901: Please someone tell can we submit chem assignment tomorrow\\n',\n",
       " '12/24/20, 20:19 - +91 70176 00211: Yes\\n',\n",
       " '12/24/20, 20:20 - +91 91794 37901: Thanks\\n',\n",
       " '12/24/20, 20:48 - +91 73787 76427: This message was deleted\\n',\n",
       " '12/25/20, 00:29 - +91 98174 15676: In q 7 of physics assignment how we will evaluate the integral part??\\n',\n",
       " '12/25/20, 00:52 - +91 72066 37556: Bhai baaki saare ho gaye\\n',\n",
       " '12/25/20, 00:57 - +91 98174 15676: Nahi bhai\\n',\n",
       " '12/25/20, 00:59 - +91 98207 76270: ha\\n',\n",
       " '12/25/20, 00:59 - +91 98207 76270: wai bacha hai\\n',\n",
       " '12/25/20, 00:59 - +91 98174 15676: 2 ans??\\n',\n",
       " '12/25/20, 01:00 - +91 98207 76270: twice\\n',\n",
       " '12/25/20, 01:00 - +91 98207 76270: ig mukul wrote the method\\n',\n",
       " '12/25/20, 01:00 - +91 98207 76270: ya here it is\\n',\n",
       " '12/25/20, 01:01 - +91 98174 15676: Lambda positronium is twice of lambda hydrogen, na?\\n',\n",
       " '12/25/20, 01:01 - +91 85869 85911: Nearly\\n',\n",
       " '12/25/20, 01:01 - +91 98174 15676: Ya, I have also done from here\\n',\n",
       " '12/25/20, 01:02 - +91 85869 85911: 1.99 to be exact\\n',\n",
       " '12/25/20, 01:02 - +91 98174 15676: You have neglected the mass  of electron wrt proton?\\n',\n",
       " '12/25/20, 01:03 - +91 98207 76270: 🤷\\u200d♂\\n',\n",
       " '12/25/20, 01:03 - +91 85869 85911: No\\n',\n",
       " \"12/25/20, 01:03 - +91 98174 15676: Ok, that's why you are getting 1.99\\n\",\n",
       " '12/25/20, 01:03 - +91 85869 85911: Ya\\n',\n",
       " '12/25/20, 01:04 - +91 98207 76270: ?\\n',\n",
       " '12/25/20, 01:04 - +91 98207 76270: how do we integrat   e^(-x^2)\\n',\n",
       " '12/25/20, 01:04 - +91 98174 15676: <Media omitted>\\n',\n",
       " '12/25/20, 01:04 - +91 98207 76270: calci par thike\\n',\n",
       " '12/25/20, 01:04 - +91 98174 15676: Limits are from b to c\\n',\n",
       " '12/25/20, 01:04 - +91 98207 76270: integral cal site na?\\n',\n",
       " '12/25/20, 01:05 - +91 98174 15676: Ya😅\\n',\n",
       " '12/25/20, 01:05 - +91 98207 76270: limit is a to a+da?\\n',\n",
       " '12/25/20, 01:05 - +91 98174 15676: erf??\\n',\n",
       " '12/25/20, 01:05 - +91 98207 76270: pic bheji hai ab batao😂\\n',\n",
       " '12/25/20, 01:05 - +91 98174 15676: Yes, but I have caculated it from b to c\\n',\n",
       " '12/25/20, 01:06 - +91 98174 15676: Kya bataun?\\n',\n",
       " '12/25/20, 01:06 - +91 85869 85911: Learn it\\n',\n",
       " \"12/25/20, 01:06 - +91 85869 85911: It's root pi probably\\n\",\n",
       " '12/25/20, 01:07 - +91 98207 76270: its with limit - infinity to infinity\\n',\n",
       " '12/25/20, 01:07 - +91 98207 76270: that I know\\n',\n",
       " '12/25/20, 01:08 - +91 85869 85911: Yeah\\n',\n",
       " '12/25/20, 01:08 - +91 70462 44503: Ha\\n',\n",
       " '12/25/20, 01:08 - +91 98207 76270: here limits are a to a+da\\n',\n",
       " '12/25/20, 11:40 - +91 89789 73243: did anyone figure out how to solve q 6 in phy assnmt ??\\n',\n",
       " '12/25/20, 12:47 - +91 80900 73858: Someone please send solution of questions 7 of physics\\n',\n",
       " '12/25/20, 14:55 - +91 98174 15676: Anyone who had solved q7, \\n',\n",
       " 'Please tell the ans ?\\n',\n",
       " '12/25/20, 16:02 - +91 98207 76270: <Media omitted>\\n',\n",
       " '12/25/20, 16:09 - +91 77940 17878: Yep\\n',\n",
       " '12/25/20, 17:35 - +91 75009 29425: What do we have to do in Chem assignment Q4?\\n',\n",
       " '12/25/20, 17:40 - +91 99595 37918: In tutorial I think she explained right\\n',\n",
       " '12/25/20, 17:40 - +91 99595 37918: Frequency increases as bond order of co increases\\n',\n",
       " \"12/25/20, 17:41 - +91 75009 29425: That's fine\\n\",\n",
       " 'But what I am not understanding is the language of the question\\n',\n",
       " 'Are we supposed to compare the CO bond order in [CO-M-CO] to the complexes given?\\n',\n",
       " \"12/25/20, 17:41 - +91 99595 37918: In question one compound is given, compare it's ...\\n\",\n",
       " '12/25/20, 17:42 - +91 99595 37918: Correct\\n',\n",
       " '12/25/20, 17:42 - +91 70462 44503: Han\\n',\n",
       " '12/25/20, 17:42 - +91 75009 29425: Ok\\n',\n",
       " '12/25/20, 18:32 - +91 75009 29425: What is Bohr effect?\\n',\n",
       " '12/25/20, 18:33 - +91 99595 37918: See last  lecture. ending\\n',\n",
       " '12/25/20, 18:33 - +91 99595 37918: of inorganic\\n',\n",
       " '12/25/20, 18:34 - +91 75009 29425: Hmm\\n',\n",
       " 'Ok\\n',\n",
       " '~ctrl+f has failed me~\\n',\n",
       " '12/25/20, 18:37 - +91 99595 37918: in the pdf you can do ctrl+f\\n',\n",
       " \"12/25/20, 18:38 - +91 75009 29425: Yes but it didn't work for Bohr😔\\n\",\n",
       " '12/25/20, 18:38 - +91 99595 37918: I did\\n',\n",
       " '12/25/20, 18:41 - +91 99595 37918: Download it and search??\\n',\n",
       " '12/25/20, 18:41 - +91 99595 37918: ..*\\n',\n",
       " '12/25/20, 18:41 - +91 75009 29425: 🤔\\n',\n",
       " \"Didn't think about that\\n\",\n",
       " '12/25/20, 18:42 - +91 99595 37918: Do it, it worked for me\\n',\n",
       " '12/25/20, 19:10 - +91 75009 29425: Can someone confirm the answer for question 3 part 2 in chem?\\n',\n",
       " '12/25/20, 19:11 - +91 98174 15676: 18\\n',\n",
       " '12/25/20, 19:12 - +91 75009 29425: Kk\\n',\n",
       " '12/25/20, 19:17 - Jaseja Priyansh: Can anyone please tell me that in ques 4 (chem) we have to compare bond stretching freq between parts a,b,c or with the free molecule of CO\\n',\n",
       " '12/25/20, 19:17 - +91 75009 29425: Compare a b c with [CO-M-CO]\\n',\n",
       " '12/25/20, 19:19 - Jaseja Priyansh: Means we have to compare each parts with this comco molecule ?\\n',\n",
       " '12/25/20, 19:19 - +91 70176 00211: <Media omitted>\\n',\n",
       " '12/25/20, 19:19 - +91 70176 00211: Yes\\n',\n",
       " '12/25/20, 19:19 - Jaseja Priyansh: Okay thanks\\n',\n",
       " '12/25/20, 20:21 - +91 94092 60046: This message was deleted\\n',\n",
       " '12/25/20, 20:22 - +91 94092 60046: This message was deleted\\n',\n",
       " \"12/25/20, 22:34 - Jaseja Priyansh: To which email id we have to send our chem assignment, the one which is given in the sir's mail or the one which has been provided by Ekta ma'am\\n\",\n",
       " '12/25/20, 22:37 - +91 95129 35749: 😂😂😂😂\\n',\n",
       " '12/25/20, 22:37 - Jaseja Priyansh: Kya hogya??\\n',\n",
       " '12/25/20, 22:37 - +91 95129 35749: Give to the one mentioned in email\\n',\n",
       " '12/25/20, 22:37 - +91 70462 44503: Yes\\n',\n",
       " '12/25/20, 22:37 - +91 70462 44503: Sirf phd vali ko bhej\\n',\n",
       " '12/25/20, 22:37 - Jaseja Priyansh: Okay\\n',\n",
       " '12/25/20, 22:38 - Jaseja Priyansh: I was bit confused 😅\\n',\n",
       " '12/25/20, 22:38 - +91 95129 35749: Because even if the email is wrong in case because Ekta ma’am has some other id like 02 at end toh bhi apan saaara blame Abhinav sir pe hoga\\n',\n",
       " '12/25/20, 22:38 - +91 95129 35749: I asked the same thing to Nilay ganvit\\n',\n",
       " '12/25/20, 22:39 - Jaseja Priyansh: Okay thnx\\n',\n",
       " '12/25/20, 22:52 - +91 98174 15676: 7 q physics assignment whoever had done that integral please send?\\n',\n",
       " '12/25/20, 22:57 - +91 84216 90101: <Media omitted>\\n',\n",
       " \"12/25/20, 22:57 - +91 84216 90101: You can't integrate it\\n\",\n",
       " '12/25/20, 22:57 - +91 84216 90101: Use the fact that division of the two is asked\\n',\n",
       " '12/25/20, 23:00 - +91 98174 15676: Thanks a lot😃\\n',\n",
       " '12/25/20, 23:00 - +91 98174 15676: Got it\\n',\n",
       " '12/25/20, 23:01 - +91 84216 90101: 👍\\n',\n",
       " '12/25/20, 23:05 - +91 89789 73243: the probability fn is given by (psi x psi* x dx) for the particle to lie in (x ,x + dx)\\n',\n",
       " '12/25/20, 23:05 - +91 89789 73243: So we dont need to actually integrate\\n',\n",
       " '12/25/20, 23:18 - +91 75009 29425: In physics Q3 why would  _emission_ take place electron beam strikes sample of hydrogen?\\n',\n",
       " '12/25/20, 23:26 - +91 98174 15676: Ans if q 3 physics assignment?\\n',\n",
       " '12/25/20, 23:34 - +91 94092 60046: Yes\\n',\n",
       " '12/25/20, 23:35 - +91 84216 90101: Energy transfer takes place\\n',\n",
       " '12/25/20, 23:35 - +91 84216 90101: Electron will give all its energy to the sample\\n',\n",
       " '12/25/20, 23:35 - +91 84216 90101: For the case of min p.d.\\n',\n",
       " '12/25/20, 23:36 - +91 98174 15676: ?\\n',\n",
       " '12/25/20, 23:37 - +91 84216 90101: 1.88 v\\n',\n",
       " '12/26/20, 00:02 - +91 88560 38177: Pls someone send the question that mam told orally,\\n',\n",
       " 'Do we have to write those in assignment?\\n',\n",
       " '12/26/20, 00:02 - +91 70176 00211: <Media omitted>\\n',\n",
       " '12/26/20, 00:03 - +91 88560 38177: Thx\\n',\n",
       " '12/26/20, 00:05 - +91 99811 89852: e^(-ax^2)\\n',\n",
       " '12/26/20, 00:05 - +91 99811 89852: Ko kaise integrate karenge\\n',\n",
       " \"12/26/20, 00:06 - +91 75009 29425: In that case Shouldn't it be _absorption_ instead of _emission_?\\n\",\n",
       " '12/26/20, 00:08 - +91 99811 89852: Limit minus infinity se plus infinity\\n',\n",
       " '12/26/20, 00:09 - +91 98174 15676: After Absorbtion transition takes place\\n',\n",
       " '12/26/20, 00:15 - +91 88560 38177: <Media omitted>\\n',\n",
       " '12/26/20, 13:45 - +91 75009 29425: Can anyone send sol. Of physics Q7?\\n',\n",
       " '12/26/20, 14:17 - +91 98207 76270: upar dala hai na ☝\\n',\n",
       " '12/26/20, 14:17 - +91 98207 76270: .\\n',\n",
       " '12/26/20, 14:19 - +91 75009 29425: Oh ok😅\\n',\n",
       " '12/26/20, 15:35 - +91 72066 37556: Can someone tell the limitations of a wave function line by line that the mam told\\n',\n",
       " '12/26/20, 16:32 - +91 98174 15676: Psi should be continuous, finite and differentiable. \\n',\n",
       " ' Derivative of Psi should be continuous. \\n',\n",
       " 'Psi should be normalizable.\\n',\n",
       " '12/26/20, 17:45 - +91 70176 00211: physics ke viva me kab tak ka padaya hua aayega\\n',\n",
       " '12/26/20, 17:51 - +91 99204 50432: Last class tak ka aayega\\n',\n",
       " '12/26/20, 17:52 - +91 99204 50432: Portion mail me diya hai\\n',\n",
       " '12/26/20, 17:52 - +91 99204 50432: + iske baad viva ke pehle phy class nahi hone wala\\n',\n",
       " '12/26/20, 17:57 - +91 70176 00211: thanks\\n',\n",
       " '12/26/20, 18:09 - +91 98207 76270: sir said ki koi dusre sir aayenge?\\n',\n",
       " '12/26/20, 18:10 - +91 99204 50432: Mid terms ke baad\\n',\n",
       " '12/26/20, 18:11 - +91 99204 50432: And is week mon Wed ki class chem ke sir lenge\\n',\n",
       " '12/26/20, 18:11 - +91 99204 50432: And I believe sir is going to take a doubt lecture on Thursday\\n',\n",
       " '12/27/20, 08:14 - +91 80900 73858: Conversation me noun pronoun bat karenge ki part of speech WhatsApp se\\n',\n",
       " '12/27/20, 12:57 - +91 99595 37918: Parts of speech with Whatsapp\\n',\n",
       " '12/27/20, 17:45 - +91 98174 15676: <Media omitted>\\n',\n",
       " '12/27/20, 17:48 - +91 91097 39116: Bhai who 4^(1/x) h in both numerator and denominator\\n',\n",
       " '12/27/20, 17:54 - +91 98174 15676: Fir to f(x) =5/2 kabhi hoga hi nahi for x in (0, infinty)\\n',\n",
       " '12/27/20, 17:55 - +91 91097 39116: Kyu bhai\\n',\n",
       " '12/27/20, 17:55 - +91 91097 39116: At 2 f(x)=.3333\\n',\n",
       " '12/27/20, 17:55 - +91 91097 39116: X=2\\n',\n",
       " '12/27/20, 17:55 - +91 91097 39116: At x= inf\\n',\n",
       " '12/27/20, 17:55 - +91 91097 39116: This message was deleted\\n',\n",
       " '12/27/20, 17:56 - +91 98174 15676: X= infinity pe 3 kaise?\\n',\n",
       " '12/27/20, 17:57 - +91 98174 15676: 1 hoga na\\n',\n",
       " '12/27/20, 17:57 - +91 91097 39116: R8\\n',\n",
       " '12/27/20, 17:57 - +91 91097 39116: My mistake\\n',\n",
       " '12/27/20, 17:58 - +91 91097 39116: At x=-2 may do the trick\\n',\n",
       " '12/27/20, 17:58 - +91 98207 76270: domain\\n',\n",
       " '12/27/20, 17:58 - +91 98174 15676: f(x) =5/2 hone ke liye 4^(1/x) ko 1/7 hona padega jo given domain me possible hi nahi hai\\n',\n",
       " '12/27/20, 17:59 - +91 98207 76270: sahi hai na 3 hoga na\\n',\n",
       " '12/27/20, 17:59 - +91 91097 39116: Nahi\\n',\n",
       " '12/27/20, 17:59 - +91 98174 15676: 4^0 = 1 hota hai\\n',\n",
       " '12/27/20, 18:00 - +91 98207 76270: okay ha sry\\n',\n",
       " '12/27/20, 18:00 - +91 91097 39116: Check for x= - inf\\n',\n",
       " '12/27/20, 18:00 - +91 98174 15676: Domain dekho\\n',\n",
       " '12/27/20, 18:00 - +91 98174 15676: Given\\n',\n",
       " '12/27/20, 18:00 - +91 91097 39116: Okay\\n',\n",
       " '12/27/20, 18:01 - +91 98207 76270: Q kuch aur hoga  dikh nahi raha na\\n',\n",
       " '12/27/20, 18:01 - +91 98174 15676: May be\\n',\n",
       " '12/27/20, 18:02 - +91 98174 15676: This message was deleted\\n',\n",
       " '12/27/20, 18:02 - +91 98174 15676: This message was deleted\\n',\n",
       " '12/27/20, 18:03 - +91 91097 39116: <Media omitted>\\n',\n",
       " '12/27/20, 18:03 - +91 91097 39116: Ye h soln jo mere dost k h\\n',\n",
       " '12/27/20, 18:05 - +91 98174 15676: X= infinity pe 3 le rakha hai isne\\n',\n",
       " '12/27/20, 18:05 - +91 91097 39116: Wahi mistake ki h\\n',\n",
       " '12/27/20, 18:06 - +91 91097 39116: But from question it is clear this question is bonus\\n',\n",
       " '12/27/20, 18:06 - +91 91097 39116: Since it is monotonic\\n',\n",
       " '12/27/20, 18:06 - +91 91097 39116: Than max of function is 1\\n',\n",
       " '12/27/20, 18:06 - +91 98207 76270: ha\\n',\n",
       " '12/27/20, 20:44 - +91 98174 15676: <Media omitted>\\n',\n",
       " '12/27/20, 20:45 - +91 91097 39116: ++\\n',\n",
       " '12/27/20, 20:59 - +91 75009 29425: I guess try the function g(x)=f(x)-f(-x) or something\\n',\n",
       " '12/27/20, 21:08 - +91 98174 15676: This message was deleted\\n',\n",
       " '12/27/20, 21:13 - +91 98174 15676: Thanks\\n',\n",
       " '12/27/20, 21:30 - +91 98207 76270: guys vote for CR\\n',\n",
       " '12/27/20, 21:31 - +91 98174 15676: Candidates??\\n',\n",
       " '12/27/20, 21:32 - +91 95129 35749: Mid sem ke baad?\\n',\n",
       " '12/27/20, 21:33 - +91 88560 38177: Vote hi toh karna h\\n',\n",
       " '12/27/20, 21:33 - +91 70462 44503: Satwik hai to sahi\\n',\n",
       " '12/27/20, 21:34 - +91 70462 44503: Done\\n',\n",
       " '12/27/20, 21:34 - +91 88560 38177: Ujwal ko bhi bana tha na?!\\n',\n",
       " '12/27/20, 21:36 - +91 70176 00211: Haan\\n',\n",
       " '12/27/20, 21:40 - +91 99204 50432: Woh bhi ek candidate tha\\n',\n",
       " '12/27/20, 21:41 - +91 99204 50432: Aur unme voting karni thi\\n',\n",
       " '12/27/20, 21:46 - +91 95129 35749: Okay voting karni hai?\\n',\n",
       " '12/27/20, 21:50 - +91 77940 17878: let him Confirm whether he want to or not\\n',\n",
       " '12/27/20, 21:52 - +91 70462 44503: This message was deleted\\n',\n",
       " '12/27/20, 21:52 - +91 70462 44503: Arre vo to A1 mai hai\\n',\n",
       " '12/27/20, 21:53 - +91 70462 44503: Batch wise bola hain\\n',\n",
       " '12/27/20, 21:53 - +91 77940 17878: Oh\\n',\n",
       " '12/27/20, 21:53 - +91 77940 17878: True\\n',\n",
       " '12/28/20, 10:47 - +91 99811 89852: Abhi phy class me kya hua\\n',\n",
       " '12/28/20, 10:47 - +91 82388 85193: no phy class\\n',\n",
       " '12/28/20, 10:47 - +91 70176 00211: Quiz huq\\n',\n",
       " '12/28/20, 10:47 - +91 70176 00211: Hua\\n',\n",
       " '12/28/20, 10:47 - +91 82388 85193: chem class is going on\\n',\n",
       " '12/28/20, 10:47 - +91 70176 00211: Miss kardi tumne\\n',\n",
       " '12/28/20, 10:47 - +91 70176 00211: Marks gaye tumharw\\n',\n",
       " '12/28/20, 10:48 - +91 99811 89852: Konsa quiz\\n',\n",
       " '12/28/20, 10:48 - +91 70176 00211: Chem ka\\n',\n",
       " '12/28/20, 10:48 - +91 70176 00211: Surprise\\n',\n",
       " '12/28/20, 10:48 - +91 99811 89852: Vo to shayad batchwise hone wala tha\\n',\n",
       " '12/28/20, 10:48 - +91 82388 85193: <Media omitted>\\n',\n",
       " '12/28/20, 10:48 - +91 70176 00211: Nahi qbhi hua\\n',\n",
       " '12/28/20, 10:48 - +91 99811 89852: Aacha\\n',\n",
       " '12/28/20, 10:48 - +91 82388 85193: Ye wala\\n',\n",
       " '12/28/20, 10:48 - +91 91191 44167: Nhi mid sem m gaye tre marks 10\\n',\n",
       " '12/28/20, 10:48 - +91 70176 00211: Haan\\n',\n",
       " '12/28/20, 10:49 - +91 70176 00211: Gaye marks\\n',\n",
       " '12/28/20, 10:49 - +91 91191 44167: Han quiz k marks gaye\\n',\n",
       " '12/28/20, 10:49 - +91 99811 89852: Ha bhai pata hai\\n',\n",
       " '12/28/20, 10:49 - +91 95116 38158: Sir said it was a practice\\n',\n",
       " '12/28/20, 10:49 - +91 99811 89852: Kitne mrk ka tha\\n',\n",
       " '12/28/20, 10:49 - +91 70176 00211: Nahi\\n',\n",
       " '12/28/20, 10:49 - +91 91191 44167: Bolne ki kya zaroorat thi\\n',\n",
       " '12/28/20, 10:49 - +91 70176 00211: Ab consider hoga\\n',\n",
       " '12/28/20, 10:50 - +91 70176 00211: 15 marks\\n',\n",
       " '12/28/20, 10:50 - +91 91191 44167: Wahi\\n',\n",
       " '12/28/20, 10:50 - +91 99811 89852: Abhi mujhe bhi pata hai tum log mera kaat rahe the\\n',\n",
       " '12/28/20, 10:50 - +91 91191 44167: Gaue vansh 16 marks\\n',\n",
       " '12/28/20, 10:50 - +91 91191 44167: 15*\\n',\n",
       " '12/28/20, 10:50 - +91 99811 89852: Doosre grp me thodi baate padhi thi maine\\n',\n",
       " '12/28/20, 10:50 - +91 95116 38158: Mujhe thik se nahi pata tha\\n',\n",
       " '12/28/20, 10:51 - +91 70176 00211: <Media omitted>\\n',\n",
       " '12/28/20, 10:51 - +91 70176 00211: Dekh\\n',\n",
       " '12/28/20, 10:51 - +91 70176 00211: Hoga consider\\n',\n",
       " '12/28/20, 10:51 - +91 91191 44167: Thoda padh lete ki kisi ki li jaa rahi h🤦\\n',\n",
       " '12/28/20, 10:51 - +91 99811 89852: Abe jao yaar\\n',\n",
       " '12/28/20, 10:52 - +91 70176 00211: This message was deleted\\n',\n",
       " '12/28/20, 10:52 - +91 91097 39116: This message was deleted\\n',\n",
       " '12/28/20, 10:52 - +91 70176 00211: Ab hogaya\\n',\n",
       " '12/28/20, 10:52 - +91 91191 44167: Aaj ka kahatm😂\\n',\n",
       " '12/28/20, 10:52 - +91 70176 00211: Barbad hogaya prenk\\n',\n",
       " '12/28/20, 10:53 - +91 91191 44167: Han yrr wo bich m bolgaya\\n',\n",
       " '12/28/20, 11:29 - +91 99811 89852: Ab maths class 12 baje se hai na\\n',\n",
       " '12/28/20, 11:29 - +91 98207 76270: ha new link sai join karna\\n',\n",
       " \"12/28/20, 11:36 - Jaseja Priyansh: Are yrr eng ma'am ne ek ayr assignment post kard diya\\n\",\n",
       " \"12/28/20, 11:37 - Jaseja Priyansh: Ham sab milke ma'am ko bolte h ki ma'am hamare mid sems aa rhe h to ham yeh vala assignment time pe complete nhi kar payenge .....\\n\",\n",
       " '12/28/20, 11:38 - +91 82388 85193: Cr ko bolo\\n',\n",
       " '12/28/20, 11:38 - Jaseja Priyansh: Tum sab kya kehte ho ???\\n',\n",
       " 'Are u all agree??\\n',\n",
       " '12/28/20, 11:38 - +91 82388 85193: Agreed👍\\n',\n",
       " '12/28/20, 11:39 - +91 98174 15676: Mughe nahi lagta mam cacel karengi\\n',\n",
       " \"12/28/20, 11:39 - +91 91097 39116: Ma'am is strict about deadlines\\n\",\n",
       " '12/28/20, 11:39 - +91 82388 85193: Not to cancel but extend submission date\\n',\n",
       " '12/28/20, 11:39 - Jaseja Priyansh: Deadline postpone ho jaye to bhi kaam chl jayega\\n',\n",
       " '12/28/20, 11:39 - +91 98174 15676: Kyunki mam kahengi ki I have given you enough time\\n',\n",
       " '12/28/20, 11:40 - +91 98207 76270: maam will say its still a week for exams\\n',\n",
       " '12/28/20, 11:40 - +91 70462 44503: Agreed\\n',\n",
       " '12/28/20, 11:40 - +91 70462 44503: Han\\n',\n",
       " '12/28/20, 11:40 - +91 70462 44503: Ha ye bhi theek hain\\n',\n",
       " '12/28/20, 11:40 - +91 82388 85193: We should at least try\\n',\n",
       " '12/28/20, 11:40 - +91 98174 15676: Right\\n',\n",
       " \"12/28/20, 11:41 - +91 82388 85193: By e-mailing ma'am\\n\",\n",
       " '12/28/20, 11:41 - +91 98174 15676: CR ko bolo\\n',\n",
       " '12/28/20, 11:41 - +91 82388 85193: 😑\\n',\n",
       " '12/28/20, 11:46 - +91 88560 38177: Shi h, I m also agreed\\n',\n",
       " '12/28/20, 13:42 - +91 98174 15676: No more classes today, right?\\n',\n",
       " '12/28/20, 13:43 - +91 82388 85193: Yes\\n',\n",
       " '12/28/20, 14:13 - +91 77940 17878: I think the same\\n',\n",
       " '12/28/20, 14:14 - +91 77940 17878: Exactly\\n',\n",
       " \"12/28/20, 14:16 - +91 77940 17878: In the last class she told that , i haven't appointed any cr and students should mail her personally...\\n\",\n",
       " '12/28/20, 14:17 - +91 82388 85193: But we do have a general CR right?\\n',\n",
       " \"12/28/20, 14:17 - +91 99204 50432: Yeah she's given the individual mailing thing even in the marking scheme pdf\\n\",\n",
       " '12/28/20, 14:18 - +91 82388 85193: Hmm\\n',\n",
       " '12/28/20, 22:46 - Jaseja Priyansh: <Media omitted>\\n',\n",
       " '12/28/20, 22:53 - +91 98207 76270: cauchy criterion use karo jo maam nai baad mai likhaya tha\\n',\n",
       " '12/28/20, 22:54 - +91 98207 76270: direct aa jayega\\n',\n",
       " '12/29/20, 09:36 - +91 98174 15676: Send the link please of IC\\n',\n",
       " '12/29/20, 09:37 - +91 98174 15676: Has the class started?\\n',\n",
       " '12/29/20, 09:37 - +91 82388 85193: No\\n',\n",
       " '\\n',\n",
       " 'https://iiti.webex.com/iiti/j.php?MTID=mbca2b3d45c295adad7f6f09e94ea2c29\\n',\n",
       " '12/29/20, 09:38 - +91 98174 15676: Thanks\\n',\n",
       " '12/29/20, 09:45 - +91 98174 15676: ?\\n',\n",
       " '12/29/20, 09:45 - +91 82388 85193: No\\n',\n",
       " '12/29/20, 11:53 - +91 99811 89852: Maths ka syllabus kya hai guys\\n',\n",
       " '12/29/20, 11:59 - +91 98207 76270: aaj puchenge\\n',\n",
       " '12/29/20, 11:59 - +91 98174 15676: Aaj puch lena koi\\n',\n",
       " '12/29/20, 11:59 - +91 98207 76270: class start nahi hui?\\n',\n",
       " '12/29/20, 12:00 - +91 82388 85193: Ha\\n',\n",
       " '12/29/20, 12:00 - Jaseja Priyansh: Ho gyi\\n',\n",
       " '12/29/20, 12:00 - +91 77940 17878: Yes\\n',\n",
       " '12/29/20, 12:00 - +91 82388 85193: Ho gayi\\n',\n",
       " '12/29/20, 12:00 - +91 77940 17878: 👍\\n',\n",
       " '12/29/20, 12:05 - +91 99811 89852: Ha to syllab bataya kya sir ne maine abhi join kara\\n',\n",
       " '12/29/20, 12:08 - +91 77940 17878: No\\n',\n",
       " '12/29/20, 13:03 - +91 75009 29425: does everyone using A3 sheet draw a title box?\\n',\n",
       " '12/29/20, 13:04 - +91 82388 85193: On first page of assignment\\n',\n",
       " '12/29/20, 13:53 - +91 75009 29425: IC tutorial link?\\n',\n",
       " '12/29/20, 13:55 - +91 75009 29425: nvm found it\\n',\n",
       " '12/29/20, 13:55 - +91 77940 17878: http://meet.google.com/ign-jxpq-jsg\\n',\n",
       " '12/29/20, 14:10 - +91 75009 29425: where will the centre of mass of Hexagonal pyramid be?\\n',\n",
       " 'h/4?\\n',\n",
       " '12/29/20, 14:11 - +91 82388 85193: +\\n',\n",
       " '12/29/20, 14:11 - +91 72066 37556: Can you please tell how to draw Q 1\\n',\n",
       " '12/29/20, 14:15 - +91 82388 85193: +\\n',\n",
       " '12/29/20, 14:17 - +91 70176 00211: Yes\\n',\n",
       " '12/29/20, 14:17 - +91 70176 00211: <Media omitted>\\n',\n",
       " '12/29/20, 14:17 - +91 99811 89852: Hexagonal pyramid ka base HP k parallel haina\\n',\n",
       " '12/29/20, 14:18 - +91 72066 37556: Pooch raha hai bata raha hai\\n',\n",
       " '12/29/20, 14:18 - +91 99811 89852: Poochraha hu\\n',\n",
       " '12/29/20, 14:18 - +91 82388 85193: Mere hisabse nahi\\n',\n",
       " '12/29/20, 14:18 - +91 99811 89852: Vaise maine haina likha tha\\n',\n",
       " '12/29/20, 14:19 - +91 70176 00211: <Media omitted>\\n',\n",
       " '12/29/20, 14:19 - +91 99811 89852: To fir vo kaise rakha hua hai\\n',\n",
       " '12/29/20, 14:21 - +91 72066 37556: Bata do koi to\\n',\n",
       " '12/29/20, 14:22 - +91 75009 29425: Ig we have to do something similar to this\\n',\n",
       " '\\n',\n",
       " 'https://www.youtube.com/watch?v=6P6Qwb3RxTA\\n',\n",
       " '12/29/20, 14:22 - Jaseja Priyansh: Mere khyal se isko aise solve karna ki jo iska point of suspension h uske just neeche cog aana chaiye\\n',\n",
       " '12/29/20, 14:23 - Jaseja Priyansh: Vaah yrr..\\n',\n",
       " '12/29/20, 14:23 - +91 72066 37556: Kisi par koi sa question hua\\n',\n",
       " '12/29/20, 14:24 - +91 75009 29425: ?\\n',\n",
       " '12/29/20, 14:24 - Jaseja Priyansh: Video doond li na...\\n',\n",
       " '12/29/20, 14:30 - +91 70462 44503: Hexagon ki orientation kaise decide karne ki?\\n',\n",
       " '12/29/20, 14:31 - +91 94092 60046: Ig assume base parallel to hp\\n',\n",
       " '12/29/20, 14:31 - +91 72066 37556: No\\n',\n",
       " '12/29/20, 14:36 - +91 75009 29425: what is the label used for centre of mass?\\n',\n",
       " 'g?\\n',\n",
       " '12/29/20, 14:36 - +91 72066 37556: Bhai tera Q1 ho gaya hai to bhej de\\n',\n",
       " '12/29/20, 14:37 - +91 75009 29425: Nahin hua\\n',\n",
       " 'pata nahin first step ke baad kaise karna hai\\n',\n",
       " '12/29/20, 14:37 - +91 70462 44503: Abe ye pichli baar ka q6 jaisa hain\\n',\n",
       " '12/29/20, 14:37 - +91 70462 44503: Vahi hain\\n',\n",
       " '12/29/20, 14:38 - +91 75009 29425: its slightly different\\n',\n",
       " '12/29/20, 14:38 - +91 72066 37556: Its base is not parallel to hp\\n',\n",
       " '12/29/20, 14:40 - +91 94092 60046: I think the inclination must be such that the pt of suspension and the centre of gravity are on same vertical line\\n',\n",
       " '12/29/20, 14:40 - +91 72066 37556: Pichli baar ka section E karna hai kya\\n',\n",
       " '12/29/20, 14:40 - +91 99811 89852: Mere khayal se vo fourt quadrant me latka hua hai \\n',\n",
       " 'With its one corner in hp\\n',\n",
       " '12/29/20, 14:40 - +91 70462 44503: Sir bolenge\\n',\n",
       " '12/29/20, 14:41 - +91 72066 37556: Ha par phir angle by calculation se nikalna padega\\n',\n",
       " '12/29/20, 14:41 - +91 75009 29425: bhai faltu mein ek se jyada quadrant kiun include kar raha hai 😭😭\\n',\n",
       " '12/29/20, 14:41 - +91 70462 44503: Ha\\n',\n",
       " '12/29/20, 14:41 - +91 94092 60046: Yea\\n',\n",
       " '12/29/20, 14:41 - +91 94092 60046: Angle 37 degrees aata h\\n',\n",
       " '12/29/20, 14:41 - +91 75009 29425: you can measure it\\n',\n",
       " '12/29/20, 14:41 - +91 75009 29425: Ig\\n',\n",
       " '12/29/20, 14:49 - +91 72066 37556: Bhaiyon koi sa hua\\n',\n",
       " '12/29/20, 14:49 - +91 72066 37556: Agar ha toh please send kar do\\n',\n",
       " '12/29/20, 14:53 - +91 80900 73858: +++\\n',\n",
       " '12/29/20, 15:03 - +91 75009 29425: wtf is generator\\n',\n",
       " '12/29/20, 15:03 - +91 95129 35749: ++😅\\n',\n",
       " '12/29/20, 15:03 - +91 95116 38158: Slant height\\n',\n",
       " '12/29/20, 15:03 - +91 99811 89852: AC generator\\n',\n",
       " '12/29/20, 15:03 - +91 91191 44167: Sir screen kar rahe h kya?\\n',\n",
       " '12/29/20, 15:03 - +91 99204 50432: Is it one of the 12 lines used with circle?\\n',\n",
       " '12/29/20, 15:03 - +91 91191 44167: Share*\\n',\n",
       " '12/29/20, 15:04 - +91 75009 29425: <Media omitted>\\n',\n",
       " '12/29/20, 15:08 - +91 88560 38177: <Media omitted>\\n',\n",
       " '12/29/20, 15:12 - +91 70462 44503: Lag to rha hain\\n',\n",
       " '12/29/20, 15:13 - +91 75009 29425: <Media omitted>\\n',\n",
       " '12/29/20, 15:13 - +91 70462 44503: Ye kaun tan tan kar rha\\n',\n",
       " '12/29/20, 15:13 - +91 99204 50432: Echo\\n',\n",
       " '12/29/20, 15:14 - +91 75009 29425: Well\\n',\n",
       " 'Fuck\\n',\n",
       " 'I messed up\\n',\n",
       " 'Gotta do it again\\n',\n",
       " '12/29/20, 15:15 - +91 88560 38177: Axis vp se parallel hogi\\n',\n",
       " '12/29/20, 15:17 - +91 70462 44503: Arre ye figure kaise rotate kara\\n',\n",
       " '12/29/20, 15:18 - +91 82388 85193: In 2nd question do we have to touch base circle to XY\\n',\n",
       " '12/29/20, 15:41 - +91 75009 29425: op\\n',\n",
       " '12/29/20, 15:52 - +91 70176 00211: 3 question kiya kisine?\\n',\n",
       " '12/29/20, 15:55 - +91 82388 85193: +\\n',\n",
       " '12/29/20, 15:56 - +91 75009 29425: 2nd hogaya?\\n',\n",
       " '12/29/20, 15:56 - +91 82388 85193: Ha\\n',\n",
       " '12/29/20, 15:56 - +91 75009 29425: Send pls\\n',\n",
       " '12/29/20, 15:57 - +91 82388 85193: <Media omitted>\\n',\n",
       " '12/29/20, 15:57 - +91 75009 29425: Thanks\\n',\n",
       " '12/29/20, 15:57 - +91 82388 85193: 👍\\n',\n",
       " \"12/29/20, 16:02 - +91 75009 29425: for lines passing through circle's centre do we have to use centre line?\\n\",\n",
       " '12/29/20, 16:02 - +91 82388 85193: Name the points?\\n',\n",
       " '12/29/20, 16:03 - +91 82388 85193: Yes\\n',\n",
       " '12/29/20, 16:22 - +91 91097 39116: kisi ne 3 ke ss liye the kya\\n',\n",
       " '12/29/20, 16:22 - +91 91097 39116: If any plz send\\n',\n",
       " '12/29/20, 16:23 - +91 98207 76270: ya pls\\n',\n",
       " '12/29/20, 16:24 - +91 82388 85193: <Media omitted>\\n',\n",
       " '12/29/20, 16:24 - +91 98174 15676: <Media omitted>\\n',\n",
       " '12/29/20, 16:24 - +91 98174 15676: <Media omitted>\\n',\n",
       " '12/29/20, 16:24 - +91 98174 15676: <Media omitted>\\n',\n",
       " '12/29/20, 16:24 - +91 98174 15676: <Media omitted>\\n',\n",
       " '12/29/20, 16:24 - +91 99811 89852: <Media omitted>\\n',\n",
       " '12/29/20, 16:24 - +91 91097 39116: Thanks\\n',\n",
       " \"12/29/20, 16:36 - +91 80745 79397 joined using this group's invite link\\n\",\n",
       " '12/29/20, 16:50 - +91 82388 85193: This message was deleted\\n',\n",
       " '12/29/20, 16:51 - +91 82388 85193: <Media omitted>\\n',\n",
       " '12/29/20, 17:15 - +91 75009 29425: How did you rotate it?\\n',\n",
       " '12/29/20, 17:25 - +91 82388 85193: <Media omitted>\\n',\n",
       " '12/29/20, 17:26 - +91 88560 38177: Ye generator lines konse pencil se banani h?\\n',\n",
       " '12/29/20, 17:27 - +91 94092 60046: 2h shayad\\n',\n",
       " '12/29/20, 17:28 - +91 91097 39116: Kisi ka tut 3&4 check hua\\n',\n",
       " '12/29/20, 17:28 - +91 82388 85193: Anyone able to draw 3rd projection view of the 4th question\\n',\n",
       " '12/29/20, 17:28 - +91 99204 50432: Sir said generator lines are silmilar to projection lines\\n',\n",
       " '12/29/20, 17:28 - +91 99204 50432: Toh 2H hoga probs\\n',\n",
       " '12/29/20, 17:28 - +91 88560 38177: Acha thx\\n',\n",
       " '12/29/20, 17:29 - +91 91097 39116: .\\n',\n",
       " '12/29/20, 17:29 - +91 88560 38177: Not yet\\n',\n",
       " '12/29/20, 17:30 - +91 91097 39116: Okay, thanks\\n',\n",
       " '12/29/20, 17:30 - +91 99204 50432: Yeah same\\n',\n",
       " '12/29/20, 17:31 - +91 82388 85193: ¿⁉️\\n',\n",
       " '12/29/20, 17:31 - +91 88560 38177: Abhi tak chalu nahi kiya h bro\\n',\n",
       " '12/29/20, 17:32 - +91 82388 85193: Hote hi bhejna\\n',\n",
       " '12/29/20, 17:36 - +91 70176 00211: 4 hua kisika?\\n',\n",
       " ...]"
      ]
     },
     "execution_count": 7,
     "metadata": {},
     "output_type": "execute_result"
    }
   ],
   "source": [
    "file_lines"
   ]
  },
  {
   "cell_type": "code",
   "execution_count": 8,
   "metadata": {
    "id": "NOT7-9OI4EJ5"
   },
   "outputs": [],
   "source": [
    "header = ['date', 'time', 'user', 'message']"
   ]
  },
  {
   "cell_type": "markdown",
   "metadata": {
    "id": "y9hWjJMc1UYx"
   },
   "source": [
    "Lets first define a function which can convert the data in a csv format"
   ]
  },
  {
   "cell_type": "code",
   "execution_count": 9,
   "metadata": {
    "id": "Z3YNzXgXyhBS"
   },
   "outputs": [],
   "source": [
    "def parse_line (data_line):\n",
    "    try:\n",
    "        y = data_line.strip().split(',')\n",
    "        z = y[1].split('-')\n",
    "        k = z[1].split(':')\n",
    "        list = [y[0], z[0], k[0], k[1]]\n",
    "        return list\n",
    "    except:\n",
    "        pass"
   ]
  },
  {
   "cell_type": "markdown",
   "metadata": {
    "id": "vLp2NibI3jCz"
   },
   "source": [
    "Let's whether above function works properly or not."
   ]
  },
  {
   "cell_type": "code",
   "execution_count": 10,
   "metadata": {
    "id": "_ypVZ9rJyhBS"
   },
   "outputs": [
    {
     "data": {
      "text/plain": [
       "['12/18/20', ' 16:34 ', ' +91 70450 67635', ' This message was deleted']"
      ]
     },
     "execution_count": 10,
     "metadata": {},
     "output_type": "execute_result"
    }
   ],
   "source": [
    "parse_line(file_lines[5])"
   ]
  },
  {
   "cell_type": "markdown",
   "metadata": {
    "id": "Vjbbhl0K3qoA"
   },
   "source": [
    "Now let's write the data into a new file called converted.csv"
   ]
  },
  {
   "cell_type": "code",
   "execution_count": 11,
   "metadata": {
    "id": "BHP-Ubq7yhBT"
   },
   "outputs": [],
   "source": [
    "with open('converted.csv', mode='w') as con:\n",
    "    con.write(','.join(header) + '\\n')\n",
    "    \n",
    "    for item in file_lines:\n",
    "        line = parse_line(item)\n",
    "        if line!=None:\n",
    "            con.write(line[0].strip() + ',' + line[1].strip() + ',' + line[2].strip() + ',' + line[3].strip() + '\\n')"
   ]
  },
  {
   "cell_type": "code",
   "execution_count": 12,
   "metadata": {
    "id": "H06jtb_ryhBU"
   },
   "outputs": [
    {
     "data": {
      "text/plain": [
       "['.profile',\n",
       " '.bashrc',\n",
       " '.bash_logout',\n",
       " '.local',\n",
       " '.cache',\n",
       " '.jupyter',\n",
       " 'zerotopandas-course-project.ipynb',\n",
       " '.jovian',\n",
       " '.ipython',\n",
       " '.ipynb_checkpoints',\n",
       " 'Chat.txt',\n",
       " '.jovianrc',\n",
       " 'converted.csv',\n",
       " '.empty',\n",
       " 'work',\n",
       " '.config',\n",
       " '.conda',\n",
       " '.git',\n",
       " '.yarn']"
      ]
     },
     "execution_count": 12,
     "metadata": {},
     "output_type": "execute_result"
    }
   ],
   "source": [
    "os.listdir()"
   ]
  },
  {
   "cell_type": "markdown",
   "metadata": {
    "id": "4oOtkMyy4ZSv"
   },
   "source": [
    "Converted.csv appeared in the folder"
   ]
  },
  {
   "cell_type": "code",
   "execution_count": 13,
   "metadata": {
    "id": "mobkmSHU4wbe"
   },
   "outputs": [],
   "source": [
    "chat_df = pd.read_csv('converted.csv')"
   ]
  },
  {
   "cell_type": "code",
   "execution_count": 14,
   "metadata": {
    "id": "KXawIVP24xCc"
   },
   "outputs": [
    {
     "data": {
      "text/html": [
       "<div>\n",
       "<style scoped>\n",
       "    .dataframe tbody tr th:only-of-type {\n",
       "        vertical-align: middle;\n",
       "    }\n",
       "\n",
       "    .dataframe tbody tr th {\n",
       "        vertical-align: top;\n",
       "    }\n",
       "\n",
       "    .dataframe thead th {\n",
       "        text-align: right;\n",
       "    }\n",
       "</style>\n",
       "<table border=\"1\" class=\"dataframe\">\n",
       "  <thead>\n",
       "    <tr style=\"text-align: right;\">\n",
       "      <th></th>\n",
       "      <th>date</th>\n",
       "      <th>time</th>\n",
       "      <th>user</th>\n",
       "      <th>message</th>\n",
       "    </tr>\n",
       "  </thead>\n",
       "  <tbody>\n",
       "    <tr>\n",
       "      <th>0</th>\n",
       "      <td>12/18/20</td>\n",
       "      <td>16:33</td>\n",
       "      <td>+91 98207 76270</td>\n",
       "      <td>Please invite whoever you know from A2 batch</td>\n",
       "    </tr>\n",
       "    <tr>\n",
       "      <th>1</th>\n",
       "      <td>12/18/20</td>\n",
       "      <td>16:34</td>\n",
       "      <td>+91 70450 67635</td>\n",
       "      <td>This message was deleted</td>\n",
       "    </tr>\n",
       "    <tr>\n",
       "      <th>2</th>\n",
       "      <td>12/18/20</td>\n",
       "      <td>16:34</td>\n",
       "      <td>+91 94092 60046</td>\n",
       "      <td>Ok</td>\n",
       "    </tr>\n",
       "    <tr>\n",
       "      <th>3</th>\n",
       "      <td>12/18/20</td>\n",
       "      <td>16:41</td>\n",
       "      <td>+91 95129 35749</td>\n",
       "      <td>Is there any quiz?</td>\n",
       "    </tr>\n",
       "    <tr>\n",
       "      <th>4</th>\n",
       "      <td>12/18/20</td>\n",
       "      <td>16:42</td>\n",
       "      <td>+91 95129 35749</td>\n",
       "      <td>&lt;Media omitted&gt;</td>\n",
       "    </tr>\n",
       "    <tr>\n",
       "      <th>...</th>\n",
       "      <td>...</td>\n",
       "      <td>...</td>\n",
       "      <td>...</td>\n",
       "      <td>...</td>\n",
       "    </tr>\n",
       "    <tr>\n",
       "      <th>25566</th>\n",
       "      <td>6/9/21</td>\n",
       "      <td>00:08</td>\n",
       "      <td>+91 91191 44167</td>\n",
       "      <td>Combine hi aata h uss m</td>\n",
       "    </tr>\n",
       "    <tr>\n",
       "      <th>25567</th>\n",
       "      <td>6/9/21</td>\n",
       "      <td>00:08</td>\n",
       "      <td>Jaseja Priyansh</td>\n",
       "      <td>&lt;Media omitted&gt;</td>\n",
       "    </tr>\n",
       "    <tr>\n",
       "      <th>25568</th>\n",
       "      <td>6/9/21</td>\n",
       "      <td>00:14</td>\n",
       "      <td>+91 77940 17878</td>\n",
       "      <td>Arre bro !!! 😂😂</td>\n",
       "    </tr>\n",
       "    <tr>\n",
       "      <th>25569</th>\n",
       "      <td>6/9/21</td>\n",
       "      <td>00:15</td>\n",
       "      <td>+91 99595 37918</td>\n",
       "      <td>&lt;Media omitted&gt;</td>\n",
       "    </tr>\n",
       "    <tr>\n",
       "      <th>25570</th>\n",
       "      <td>6/9/21</td>\n",
       "      <td>00:16</td>\n",
       "      <td>+91 99595 37918</td>\n",
       "      <td>&lt;Media omitted&gt;</td>\n",
       "    </tr>\n",
       "  </tbody>\n",
       "</table>\n",
       "<p>25571 rows × 4 columns</p>\n",
       "</div>"
      ],
      "text/plain": [
       "           date   time             user  \\\n",
       "0      12/18/20  16:33  +91 98207 76270   \n",
       "1      12/18/20  16:34  +91 70450 67635   \n",
       "2      12/18/20  16:34  +91 94092 60046   \n",
       "3      12/18/20  16:41  +91 95129 35749   \n",
       "4      12/18/20  16:42  +91 95129 35749   \n",
       "...         ...    ...              ...   \n",
       "25566    6/9/21  00:08  +91 91191 44167   \n",
       "25567    6/9/21  00:08  Jaseja Priyansh   \n",
       "25568    6/9/21  00:14  +91 77940 17878   \n",
       "25569    6/9/21  00:15  +91 99595 37918   \n",
       "25570    6/9/21  00:16  +91 99595 37918   \n",
       "\n",
       "                                            message  \n",
       "0      Please invite whoever you know from A2 batch  \n",
       "1                          This message was deleted  \n",
       "2                                                Ok  \n",
       "3                                Is there any quiz?  \n",
       "4                                   <Media omitted>  \n",
       "...                                             ...  \n",
       "25566                       Combine hi aata h uss m  \n",
       "25567                               <Media omitted>  \n",
       "25568                               Arre bro !!! 😂😂  \n",
       "25569                               <Media omitted>  \n",
       "25570                               <Media omitted>  \n",
       "\n",
       "[25571 rows x 4 columns]"
      ]
     },
     "execution_count": 14,
     "metadata": {},
     "output_type": "execute_result"
    }
   ],
   "source": [
    "chat_df"
   ]
  },
  {
   "cell_type": "markdown",
   "metadata": {
    "id": "gjGYSGOp52F8"
   },
   "source": [
    "We have to drop those lines which have Media"
   ]
  },
  {
   "cell_type": "code",
   "execution_count": 15,
   "metadata": {
    "id": "l9P8TXt24yBv"
   },
   "outputs": [
    {
     "data": {
      "text/html": [
       "<div>\n",
       "<style scoped>\n",
       "    .dataframe tbody tr th:only-of-type {\n",
       "        vertical-align: middle;\n",
       "    }\n",
       "\n",
       "    .dataframe tbody tr th {\n",
       "        vertical-align: top;\n",
       "    }\n",
       "\n",
       "    .dataframe thead th {\n",
       "        text-align: right;\n",
       "    }\n",
       "</style>\n",
       "<table border=\"1\" class=\"dataframe\">\n",
       "  <thead>\n",
       "    <tr style=\"text-align: right;\">\n",
       "      <th></th>\n",
       "      <th>date</th>\n",
       "      <th>time</th>\n",
       "      <th>user</th>\n",
       "      <th>message</th>\n",
       "    </tr>\n",
       "  </thead>\n",
       "  <tbody>\n",
       "    <tr>\n",
       "      <th>4</th>\n",
       "      <td>12/18/20</td>\n",
       "      <td>16:42</td>\n",
       "      <td>+91 95129 35749</td>\n",
       "      <td>&lt;Media omitted&gt;</td>\n",
       "    </tr>\n",
       "    <tr>\n",
       "      <th>100</th>\n",
       "      <td>12/22/20</td>\n",
       "      <td>19:50</td>\n",
       "      <td>+91 82388 85193</td>\n",
       "      <td>&lt;Media omitted&gt;</td>\n",
       "    </tr>\n",
       "    <tr>\n",
       "      <th>115</th>\n",
       "      <td>12/22/20</td>\n",
       "      <td>20:55</td>\n",
       "      <td>+91 82388 85193</td>\n",
       "      <td>&lt;Media omitted&gt;</td>\n",
       "    </tr>\n",
       "    <tr>\n",
       "      <th>176</th>\n",
       "      <td>12/23/20</td>\n",
       "      <td>15:19</td>\n",
       "      <td>+91 75009 29425</td>\n",
       "      <td>&lt;Media omitted&gt;</td>\n",
       "    </tr>\n",
       "    <tr>\n",
       "      <th>187</th>\n",
       "      <td>12/23/20</td>\n",
       "      <td>15:29</td>\n",
       "      <td>+91 84216 90101</td>\n",
       "      <td>&lt;Media omitted&gt;</td>\n",
       "    </tr>\n",
       "    <tr>\n",
       "      <th>...</th>\n",
       "      <td>...</td>\n",
       "      <td>...</td>\n",
       "      <td>...</td>\n",
       "      <td>...</td>\n",
       "    </tr>\n",
       "    <tr>\n",
       "      <th>25473</th>\n",
       "      <td>6/8/21</td>\n",
       "      <td>13:06</td>\n",
       "      <td>+91 91191 44167</td>\n",
       "      <td>&lt;Media omitted&gt;</td>\n",
       "    </tr>\n",
       "    <tr>\n",
       "      <th>25557</th>\n",
       "      <td>6/8/21</td>\n",
       "      <td>16:04</td>\n",
       "      <td>+91 84216 90101</td>\n",
       "      <td>&lt;Media omitted&gt;</td>\n",
       "    </tr>\n",
       "    <tr>\n",
       "      <th>25567</th>\n",
       "      <td>6/9/21</td>\n",
       "      <td>00:08</td>\n",
       "      <td>Jaseja Priyansh</td>\n",
       "      <td>&lt;Media omitted&gt;</td>\n",
       "    </tr>\n",
       "    <tr>\n",
       "      <th>25569</th>\n",
       "      <td>6/9/21</td>\n",
       "      <td>00:15</td>\n",
       "      <td>+91 99595 37918</td>\n",
       "      <td>&lt;Media omitted&gt;</td>\n",
       "    </tr>\n",
       "    <tr>\n",
       "      <th>25570</th>\n",
       "      <td>6/9/21</td>\n",
       "      <td>00:16</td>\n",
       "      <td>+91 99595 37918</td>\n",
       "      <td>&lt;Media omitted&gt;</td>\n",
       "    </tr>\n",
       "  </tbody>\n",
       "</table>\n",
       "<p>3118 rows × 4 columns</p>\n",
       "</div>"
      ],
      "text/plain": [
       "           date   time             user          message\n",
       "4      12/18/20  16:42  +91 95129 35749  <Media omitted>\n",
       "100    12/22/20  19:50  +91 82388 85193  <Media omitted>\n",
       "115    12/22/20  20:55  +91 82388 85193  <Media omitted>\n",
       "176    12/23/20  15:19  +91 75009 29425  <Media omitted>\n",
       "187    12/23/20  15:29  +91 84216 90101  <Media omitted>\n",
       "...         ...    ...              ...              ...\n",
       "25473    6/8/21  13:06  +91 91191 44167  <Media omitted>\n",
       "25557    6/8/21  16:04  +91 84216 90101  <Media omitted>\n",
       "25567    6/9/21  00:08  Jaseja Priyansh  <Media omitted>\n",
       "25569    6/9/21  00:15  +91 99595 37918  <Media omitted>\n",
       "25570    6/9/21  00:16  +91 99595 37918  <Media omitted>\n",
       "\n",
       "[3118 rows x 4 columns]"
      ]
     },
     "execution_count": 15,
     "metadata": {},
     "output_type": "execute_result"
    }
   ],
   "source": [
    "media_messages_df = chat_df[chat_df.message==\"<Media omitted>\"]\n",
    "to_be_dropped = chat_df[chat_df.message==\"<Media omitted>\"]\n",
    "to_be_dropped"
   ]
  },
  {
   "cell_type": "code",
   "execution_count": 16,
   "metadata": {
    "id": "08UBqGDA4yKW"
   },
   "outputs": [],
   "source": [
    "chat_df.drop(to_be_dropped.index, inplace=True)"
   ]
  },
  {
   "cell_type": "code",
   "execution_count": 17,
   "metadata": {
    "id": "ELBKM3r_z1XX"
   },
   "outputs": [
    {
     "data": {
      "text/plain": [
       "array(['+91 98207 76270', '+91 70450 67635', '+91 94092 60046',\n",
       "       '+91 95129 35749', '+91 91191 44167', '+91 82388 85193',\n",
       "       '+91 98174 15676', '+91 99811 89852', '+91 75009 29425',\n",
       "       'Jaseja Priyansh', '+91 72597 08715', '+91 99204 50432',\n",
       "       '+91 84216 90101', '+91 91794 37901', '+91 99046 43634',\n",
       "       '+91 89789 73243', '+91 70176 00211', '+91 73787 76427',\n",
       "       '+91 85869 85911', '+91 87009 83822', '+91 70462 44503',\n",
       "       '+91 83746 93487', '+91 91097 39116', '+91 77940 17878',\n",
       "       '+91 72066 37556', '+91 95116 38158', '+91 99595 37918',\n",
       "       '+91 88560 38177', '+91 80900 73858', '+91 80745 79397',\n",
       "       '+91 70288 13464', '+91 99990 60533', '+91 95529 46121',\n",
       "       '+91 79933 94979', '+91 83284 60779', '+91 99667 37566',\n",
       "       '+91 90144 84784', '+91 96386 71317', '+91 91774 97596',\n",
       "       '+91 79958 58869'], dtype=object)"
      ]
     },
     "execution_count": 17,
     "metadata": {},
     "output_type": "execute_result"
    }
   ],
   "source": [
    "chat_df.user.unique()"
   ]
  },
  {
   "cell_type": "code",
   "execution_count": 18,
   "metadata": {
    "id": "z8Q6pvDoyg1B"
   },
   "outputs": [],
   "source": [
    "chat_df.user.replace(to_replace='+91 91191 44167', value='Sanskar', inplace=True)\n",
    "chat_df.user.replace(to_replace='+91 98207 76270', value='Nishit', inplace=True)\n",
    "chat_df.user.replace(to_replace='+91 70450 67635', value='Shruti', inplace=True)\n",
    "chat_df.user.replace(to_replace='+91 94092 60046', value='Nishchay', inplace=True)\n",
    "chat_df.user.replace(to_replace='+91 95129 35749', value='Nilay Patel', inplace=True)\n",
    "chat_df.user.replace(to_replace='+91 82388 85193', value='Nilay Ganvit', inplace=True)\n",
    "chat_df.user.replace(to_replace='+91 98174 15676', value='Neha', inplace=True)\n",
    "chat_df.user.replace(to_replace='+91 99811 89852', value='Vansh', inplace=True)\n",
    "chat_df.user.replace(to_replace='+91 75009 29425', value='Umang', inplace=True)\n",
    "chat_df.user.replace(to_replace='+91 72597 08715', value='Nischit', inplace=True)\n",
    "chat_df.user.replace(to_replace='+91 99204 50432', value='Omkar', inplace=True)\n",
    "chat_df.user.replace(to_replace='+91 84216 90101', value='Vihaan', inplace=True)\n",
    "chat_df.user.replace(to_replace='+91 91794 37901', value='Rishi', inplace=True)\n",
    "chat_df.user.replace(to_replace='+91 99046 43634', value='Mitika', inplace=True)\n",
    "chat_df.user.replace(to_replace='+91 89789 73243', value='Mir', inplace=True)\n",
    "chat_df.user.replace(to_replace='+91 70176 00211', value='Subha', inplace=True)\n",
    "chat_df.user.replace(to_replace='+91 73787 76427', value='Rahul', inplace=True)\n",
    "chat_df.user.replace(to_replace='+91 85869 85911', value='Mukul', inplace=True)\n",
    "chat_df.user.replace(to_replace='+91 87009 83822', value='Prashant', inplace=True)\n",
    "chat_df.user.replace(to_replace='+91 70462 44503', value='Saral', inplace=True)\n",
    "chat_df.user.replace(to_replace='+91 91097 39116', value='Vipul', inplace=True)\n",
    "chat_df.user.replace(to_replace='+91 77940 17878', value='Satwik', inplace=True)\n",
    "chat_df.user.replace(to_replace='+91 72066 37556', value='Mayank', inplace=True)\n",
    "chat_df.user.replace(to_replace='+91 95116 38158', value='Prathmesh', inplace=True)\n",
    "chat_df.user.replace(to_replace='+91 99595 37918', value='Wanhar', inplace=True)\n",
    "chat_df.user.replace(to_replace='+91 88560 38177', value='Shubham', inplace=True)\n",
    "chat_df.user.replace(to_replace='+91 80900 73858', value='Saurabh', inplace=True)\n",
    "chat_df.user.replace(to_replace='+91 80745 79397', value='Lohith', inplace=True)\n",
    "chat_df.user.replace(to_replace='+91 70288 13464', value='Sakshi', inplace=True)\n",
    "chat_df.user.replace(to_replace='+91 99990 60533', value='Rishabh', inplace=True)\n",
    "chat_df.user.replace(to_replace='+91 95529 46121', value='Mihir', inplace=True)\n",
    "chat_df.user.replace(to_replace='+91 79933 94979', value='Bhanu Nayak', inplace=True)\n",
    "chat_df.user.replace(to_replace='+91 83284 60779', value='Srinikhita', inplace=True)\n",
    "chat_df.user.replace(to_replace='+91 99667 37566', value='Krishna', inplace=True)\n",
    "chat_df.user.replace(to_replace='+91 90144 84784', value='Akshay', inplace=True)\n",
    "chat_df.user.replace(to_replace='+91 91774 97596', value='Dinesh Kumar', inplace=True)\n",
    "chat_df.user.replace(to_replace='+91 79958 58869', value='Ramakrishna', inplace=True)\n"
   ]
  },
  {
   "cell_type": "code",
   "execution_count": 19,
   "metadata": {
    "id": "LakLlbHg5Zxn"
   },
   "outputs": [
    {
     "data": {
      "text/html": [
       "<div>\n",
       "<style scoped>\n",
       "    .dataframe tbody tr th:only-of-type {\n",
       "        vertical-align: middle;\n",
       "    }\n",
       "\n",
       "    .dataframe tbody tr th {\n",
       "        vertical-align: top;\n",
       "    }\n",
       "\n",
       "    .dataframe thead th {\n",
       "        text-align: right;\n",
       "    }\n",
       "</style>\n",
       "<table border=\"1\" class=\"dataframe\">\n",
       "  <thead>\n",
       "    <tr style=\"text-align: right;\">\n",
       "      <th></th>\n",
       "      <th>date</th>\n",
       "      <th>time</th>\n",
       "      <th>user</th>\n",
       "      <th>message</th>\n",
       "    </tr>\n",
       "  </thead>\n",
       "  <tbody>\n",
       "    <tr>\n",
       "      <th>18301</th>\n",
       "      <td>4/16/21</td>\n",
       "      <td>11:19</td>\n",
       "      <td>Rishi</td>\n",
       "      <td>Slides ko dikhar hi maine bol diya🤣🤣</td>\n",
       "    </tr>\n",
       "    <tr>\n",
       "      <th>11090</th>\n",
       "      <td>2/26/21</td>\n",
       "      <td>14:12</td>\n",
       "      <td>Rishi</td>\n",
       "      <td>🎉🎉👏👏</td>\n",
       "    </tr>\n",
       "    <tr>\n",
       "      <th>21043</th>\n",
       "      <td>5/15/21</td>\n",
       "      <td>14:50</td>\n",
       "      <td>Vihaan</td>\n",
       "      <td>Which website?</td>\n",
       "    </tr>\n",
       "    <tr>\n",
       "      <th>25440</th>\n",
       "      <td>6/8/21</td>\n",
       "      <td>10:21</td>\n",
       "      <td>Nishchay</td>\n",
       "      <td>Nice bro</td>\n",
       "    </tr>\n",
       "    <tr>\n",
       "      <th>10761</th>\n",
       "      <td>2/23/21</td>\n",
       "      <td>19:00</td>\n",
       "      <td>Neha</td>\n",
       "      <td>This message was deleted</td>\n",
       "    </tr>\n",
       "  </tbody>\n",
       "</table>\n",
       "</div>"
      ],
      "text/plain": [
       "          date   time      user                               message\n",
       "18301  4/16/21  11:19     Rishi  Slides ko dikhar hi maine bol diya🤣🤣\n",
       "11090  2/26/21  14:12     Rishi                                  🎉🎉👏👏\n",
       "21043  5/15/21  14:50    Vihaan                        Which website?\n",
       "25440   6/8/21  10:21  Nishchay                              Nice bro\n",
       "10761  2/23/21  19:00      Neha              This message was deleted"
      ]
     },
     "execution_count": 19,
     "metadata": {},
     "output_type": "execute_result"
    }
   ],
   "source": [
    "chat_df.sample(5)"
   ]
  },
  {
   "cell_type": "code",
   "execution_count": 20,
   "metadata": {
    "id": "uP8QBq6m5i8K"
   },
   "outputs": [
    {
     "data": {
      "text/plain": [
       "array(['Nishit', 'Shruti', 'Nishchay', 'Nilay Patel', 'Sanskar',\n",
       "       'Nilay Ganvit', 'Neha', 'Vansh', 'Umang', 'Jaseja Priyansh',\n",
       "       'Nischit', 'Omkar', 'Vihaan', 'Rishi', 'Mitika', 'Mir', 'Subha',\n",
       "       'Rahul', 'Mukul', 'Prashant', 'Saral', '+91 83746 93487', 'Vipul',\n",
       "       'Satwik', 'Mayank', 'Prathmesh', 'Wanhar', 'Shubham', 'Saurabh',\n",
       "       'Lohith', 'Sakshi', 'Rishabh', 'Mihir', 'Bhanu Nayak',\n",
       "       'Srinikhita', 'Krishna', 'Akshay', '+91 96386 71317',\n",
       "       'Dinesh Kumar', 'Ramakrishna'], dtype=object)"
      ]
     },
     "execution_count": 20,
     "metadata": {},
     "output_type": "execute_result"
    }
   ],
   "source": [
    "chat_df.user.unique()"
   ]
  },
  {
   "cell_type": "markdown",
   "metadata": {
    "id": "15kdt4rv562j"
   },
   "source": [
    "So, I was able to find these only numbers in my group and have changed to there names. Number +91 96386 71317 appered to be of spammer which are not in the group but have messaged once. \n",
    "Therefore removing there entries from the dataset"
   ]
  },
  {
   "cell_type": "code",
   "execution_count": 21,
   "metadata": {
    "id": "8lxcZBJ87dog"
   },
   "outputs": [],
   "source": [
    "to_be_dropped1 = chat_df[chat_df.user=='+91 96386 71317']\n",
    "to_be_dropped2 = chat_df[chat_df.user=='+91 83746 93487']\n",
    "chat_df.drop(to_be_dropped1.index, inplace=True)\n",
    "chat_df.drop(to_be_dropped2.index, inplace=True)"
   ]
  },
  {
   "cell_type": "code",
   "execution_count": 22,
   "metadata": {
    "id": "MgdtN9FBef_I"
   },
   "outputs": [
    {
     "name": "stdout",
     "output_type": "stream",
     "text": [
      "<class 'pandas.core.frame.DataFrame'>\n",
      "Int64Index: 22444 entries, 0 to 25568\n",
      "Data columns (total 4 columns):\n",
      " #   Column   Non-Null Count  Dtype \n",
      "---  ------   --------------  ----- \n",
      " 0   date     22444 non-null  object\n",
      " 1   time     22444 non-null  object\n",
      " 2   user     22444 non-null  object\n",
      " 3   message  22432 non-null  object\n",
      "dtypes: object(4)\n",
      "memory usage: 876.7+ KB\n"
     ]
    }
   ],
   "source": [
    "chat_df.info()"
   ]
  },
  {
   "cell_type": "code",
   "execution_count": 23,
   "metadata": {
    "id": "OxN_XXExjlAs"
   },
   "outputs": [],
   "source": [
    "chat_df['date'] = chat_df.date + \" \" + chat_df.time\n",
    "chat_df['date'] = pd.to_datetime(chat_df.date)"
   ]
  },
  {
   "cell_type": "code",
   "execution_count": 24,
   "metadata": {
    "id": "DEPie_XnkT4H"
   },
   "outputs": [
    {
     "name": "stdout",
     "output_type": "stream",
     "text": [
      "<class 'pandas.core.frame.DataFrame'>\n",
      "Int64Index: 22444 entries, 0 to 25568\n",
      "Data columns (total 4 columns):\n",
      " #   Column   Non-Null Count  Dtype         \n",
      "---  ------   --------------  -----         \n",
      " 0   date     22444 non-null  datetime64[ns]\n",
      " 1   time     22444 non-null  object        \n",
      " 2   user     22444 non-null  object        \n",
      " 3   message  22432 non-null  object        \n",
      "dtypes: datetime64[ns](1), object(3)\n",
      "memory usage: 876.7+ KB\n"
     ]
    }
   ],
   "source": [
    "chat_df.info()"
   ]
  },
  {
   "cell_type": "code",
   "execution_count": 25,
   "metadata": {
    "id": "AOm2oasckUAn"
   },
   "outputs": [],
   "source": [
    "chat_df.drop(columns='time', inplace=True)"
   ]
  },
  {
   "cell_type": "code",
   "execution_count": 26,
   "metadata": {
    "id": "QK_hQu9JkUHF"
   },
   "outputs": [
    {
     "data": {
      "text/html": [
       "<div>\n",
       "<style scoped>\n",
       "    .dataframe tbody tr th:only-of-type {\n",
       "        vertical-align: middle;\n",
       "    }\n",
       "\n",
       "    .dataframe tbody tr th {\n",
       "        vertical-align: top;\n",
       "    }\n",
       "\n",
       "    .dataframe thead th {\n",
       "        text-align: right;\n",
       "    }\n",
       "</style>\n",
       "<table border=\"1\" class=\"dataframe\">\n",
       "  <thead>\n",
       "    <tr style=\"text-align: right;\">\n",
       "      <th></th>\n",
       "      <th>date</th>\n",
       "      <th>user</th>\n",
       "      <th>message</th>\n",
       "    </tr>\n",
       "  </thead>\n",
       "  <tbody>\n",
       "    <tr>\n",
       "      <th>6491</th>\n",
       "      <td>2021-02-03 14:45:00</td>\n",
       "      <td>Vihaan</td>\n",
       "      <td>Which is not</td>\n",
       "    </tr>\n",
       "    <tr>\n",
       "      <th>2145</th>\n",
       "      <td>2021-01-07 19:40:00</td>\n",
       "      <td>Mir</td>\n",
       "      <td>agar problem aayi to mail kardenge probably</td>\n",
       "    </tr>\n",
       "    <tr>\n",
       "      <th>13902</th>\n",
       "      <td>2021-03-13 12:34:00</td>\n",
       "      <td>Mukul</td>\n",
       "      <td>Hence we used the O outputs to know which syst...</td>\n",
       "    </tr>\n",
       "    <tr>\n",
       "      <th>13837</th>\n",
       "      <td>2021-03-12 17:18:00</td>\n",
       "      <td>Neha</td>\n",
       "      <td>Nope</td>\n",
       "    </tr>\n",
       "    <tr>\n",
       "      <th>2004</th>\n",
       "      <td>2021-01-05 19:55:00</td>\n",
       "      <td>Neha</td>\n",
       "      <td>++</td>\n",
       "    </tr>\n",
       "    <tr>\n",
       "      <th>24194</th>\n",
       "      <td>2021-05-31 09:36:00</td>\n",
       "      <td>Mukul</td>\n",
       "      <td>Aaj kuchh toofaani karte hai 😂😂😂</td>\n",
       "    </tr>\n",
       "    <tr>\n",
       "      <th>7225</th>\n",
       "      <td>2021-02-04 16:20:00</td>\n",
       "      <td>Mayank</td>\n",
       "      <td>Yeah</td>\n",
       "    </tr>\n",
       "    <tr>\n",
       "      <th>833</th>\n",
       "      <td>2020-12-29 14:23:00</td>\n",
       "      <td>Mayank</td>\n",
       "      <td>Kisi par koi sa question hua</td>\n",
       "    </tr>\n",
       "    <tr>\n",
       "      <th>25495</th>\n",
       "      <td>2021-06-08 13:57:00</td>\n",
       "      <td>Rishi</td>\n",
       "      <td>Beautiful story and amazing panels 👍👍</td>\n",
       "    </tr>\n",
       "    <tr>\n",
       "      <th>5809</th>\n",
       "      <td>2021-01-29 17:47:00</td>\n",
       "      <td>Nishit</td>\n",
       "      <td>korrect</td>\n",
       "    </tr>\n",
       "  </tbody>\n",
       "</table>\n",
       "</div>"
      ],
      "text/plain": [
       "                     date    user  \\\n",
       "6491  2021-02-03 14:45:00  Vihaan   \n",
       "2145  2021-01-07 19:40:00     Mir   \n",
       "13902 2021-03-13 12:34:00   Mukul   \n",
       "13837 2021-03-12 17:18:00    Neha   \n",
       "2004  2021-01-05 19:55:00    Neha   \n",
       "24194 2021-05-31 09:36:00   Mukul   \n",
       "7225  2021-02-04 16:20:00  Mayank   \n",
       "833   2020-12-29 14:23:00  Mayank   \n",
       "25495 2021-06-08 13:57:00   Rishi   \n",
       "5809  2021-01-29 17:47:00  Nishit   \n",
       "\n",
       "                                                 message  \n",
       "6491                                        Which is not  \n",
       "2145         agar problem aayi to mail kardenge probably  \n",
       "13902  Hence we used the O outputs to know which syst...  \n",
       "13837                                               Nope  \n",
       "2004                                                  ++  \n",
       "24194                   Aaj kuchh toofaani karte hai 😂😂😂  \n",
       "7225                                                Yeah  \n",
       "833                         Kisi par koi sa question hua  \n",
       "25495              Beautiful story and amazing panels 👍👍  \n",
       "5809                                             korrect  "
      ]
     },
     "execution_count": 26,
     "metadata": {},
     "output_type": "execute_result"
    }
   ],
   "source": [
    "chat_df.sample(10)"
   ]
  },
  {
   "cell_type": "markdown",
   "metadata": {
    "id": "YBJzHjQQBiYa"
   },
   "source": [
    "Let's add following columns in dataframe\n",
    "1. Gender\n",
    "2. Month\n",
    "3. Weekday\n",
    "4. Minute"
   ]
  },
  {
   "cell_type": "code",
   "execution_count": 27,
   "metadata": {
    "id": "NzG-rUc4yhBd"
   },
   "outputs": [],
   "source": [
    "chat_df['gender'] = 'M'\n",
    "chat_df\n",
    "chat_df.loc[chat_df.user=='Neha', 'gender'] = 'F'\n",
    "chat_df.loc[chat_df.user=='Subha', 'gender'] = 'F'\n",
    "chat_df.loc[chat_df.user=='Shruti', 'gender'] = 'F'\n",
    "chat_df.loc[chat_df.user=='Mitika', 'gender'] = 'F'\n",
    "chat_df.loc[chat_df.user=='Sakshi', 'gender'] = 'F'\n",
    "chat_df.loc[chat_df.user=='Srinikhita', 'gender'] = 'F'"
   ]
  },
  {
   "cell_type": "code",
   "execution_count": 28,
   "metadata": {
    "id": "MS17DvQ7B5Vp"
   },
   "outputs": [],
   "source": [
    "chat_df['month'] = pd.DatetimeIndex(chat_df.date).month\n",
    "chat_df['weekday'] = pd.DatetimeIndex(chat_df.date).weekday\n",
    "chat_df['hour'] = pd.DatetimeIndex(chat_df.date).hour\n",
    "chat_df['minute'] = pd.DatetimeIndex(chat_df.date).minute"
   ]
  },
  {
   "cell_type": "markdown",
   "metadata": {
    "id": "tIN7TSXOl9BV"
   },
   "source": [
    "The data has been cleaned, now we are set to do some exploratory analysis and visualization."
   ]
  },
  {
   "cell_type": "markdown",
   "metadata": {
    "id": "5Q2d6KtmyhBV"
   },
   "source": [
    "## Exploratory Analysis and Visualization\n",
    "\n",
    "**TODO** - write some explanation here.\n",
    "\n"
   ]
  },
  {
   "cell_type": "code",
   "execution_count": 29,
   "metadata": {
    "id": "GtEajLMwA5Mu"
   },
   "outputs": [
    {
     "data": {
      "text/html": [
       "<div>\n",
       "<style scoped>\n",
       "    .dataframe tbody tr th:only-of-type {\n",
       "        vertical-align: middle;\n",
       "    }\n",
       "\n",
       "    .dataframe tbody tr th {\n",
       "        vertical-align: top;\n",
       "    }\n",
       "\n",
       "    .dataframe thead th {\n",
       "        text-align: right;\n",
       "    }\n",
       "</style>\n",
       "<table border=\"1\" class=\"dataframe\">\n",
       "  <thead>\n",
       "    <tr style=\"text-align: right;\">\n",
       "      <th></th>\n",
       "      <th>month</th>\n",
       "      <th>weekday</th>\n",
       "      <th>hour</th>\n",
       "      <th>minute</th>\n",
       "    </tr>\n",
       "  </thead>\n",
       "  <tbody>\n",
       "    <tr>\n",
       "      <th>count</th>\n",
       "      <td>22444.000000</td>\n",
       "      <td>22444.000000</td>\n",
       "      <td>22444.000000</td>\n",
       "      <td>22444.000000</td>\n",
       "    </tr>\n",
       "    <tr>\n",
       "      <th>mean</th>\n",
       "      <td>3.558100</td>\n",
       "      <td>2.588309</td>\n",
       "      <td>14.642978</td>\n",
       "      <td>27.965915</td>\n",
       "    </tr>\n",
       "    <tr>\n",
       "      <th>std</th>\n",
       "      <td>2.572872</td>\n",
       "      <td>1.691983</td>\n",
       "      <td>4.286077</td>\n",
       "      <td>18.308509</td>\n",
       "    </tr>\n",
       "    <tr>\n",
       "      <th>min</th>\n",
       "      <td>1.000000</td>\n",
       "      <td>0.000000</td>\n",
       "      <td>0.000000</td>\n",
       "      <td>0.000000</td>\n",
       "    </tr>\n",
       "    <tr>\n",
       "      <th>25%</th>\n",
       "      <td>2.000000</td>\n",
       "      <td>1.000000</td>\n",
       "      <td>12.000000</td>\n",
       "      <td>11.000000</td>\n",
       "    </tr>\n",
       "    <tr>\n",
       "      <th>50%</th>\n",
       "      <td>3.000000</td>\n",
       "      <td>3.000000</td>\n",
       "      <td>14.000000</td>\n",
       "      <td>27.000000</td>\n",
       "    </tr>\n",
       "    <tr>\n",
       "      <th>75%</th>\n",
       "      <td>5.000000</td>\n",
       "      <td>4.000000</td>\n",
       "      <td>18.000000</td>\n",
       "      <td>45.000000</td>\n",
       "    </tr>\n",
       "    <tr>\n",
       "      <th>max</th>\n",
       "      <td>12.000000</td>\n",
       "      <td>6.000000</td>\n",
       "      <td>23.000000</td>\n",
       "      <td>59.000000</td>\n",
       "    </tr>\n",
       "  </tbody>\n",
       "</table>\n",
       "</div>"
      ],
      "text/plain": [
       "              month       weekday          hour        minute\n",
       "count  22444.000000  22444.000000  22444.000000  22444.000000\n",
       "mean       3.558100      2.588309     14.642978     27.965915\n",
       "std        2.572872      1.691983      4.286077     18.308509\n",
       "min        1.000000      0.000000      0.000000      0.000000\n",
       "25%        2.000000      1.000000     12.000000     11.000000\n",
       "50%        3.000000      3.000000     14.000000     27.000000\n",
       "75%        5.000000      4.000000     18.000000     45.000000\n",
       "max       12.000000      6.000000     23.000000     59.000000"
      ]
     },
     "execution_count": 29,
     "metadata": {},
     "output_type": "execute_result"
    }
   ],
   "source": [
    "chat_df.describe()"
   ]
  },
  {
   "cell_type": "markdown",
   "metadata": {
    "id": "66Hm0BWwyhBW"
   },
   "source": [
    "> Instructions (delete this cell)\n",
    "> \n",
    "> - Compute the mean, sum, range and other interesting statistics for numeric columns\n",
    "> - Explore distributions of numeric columns using histograms etc.\n",
    "> - Explore relationship between columns using scatter plots, bar charts etc.\n",
    "> - Make a note of interesting insights from the exploratory analysis"
   ]
  },
  {
   "cell_type": "markdown",
   "metadata": {
    "id": "cn8_la9RyhBX"
   },
   "source": [
    "Let's begin by importing`matplotlib.pyplot` and `seaborn`."
   ]
  },
  {
   "cell_type": "code",
   "execution_count": 30,
   "metadata": {
    "id": "B8la35KmyhBX"
   },
   "outputs": [],
   "source": [
    "import seaborn as sns\n",
    "import matplotlib\n",
    "import matplotlib.pyplot as plt\n",
    "%matplotlib inline\n",
    "\n",
    "sns.set_style('darkgrid')\n",
    "matplotlib.rcParams['font.size'] = 14\n",
    "matplotlib.rcParams['figure.figsize'] = (10, 15)\n",
    "matplotlib.rcParams['figure.facecolor'] = '#00000000'"
   ]
  },
  {
   "cell_type": "markdown",
   "metadata": {
    "id": "2ztHHnYpyhBZ"
   },
   "source": [
    "**TODO** - Explore one or more columns by plotting a graph below, and add some explanation about it"
   ]
  },
  {
   "cell_type": "code",
   "execution_count": 31,
   "metadata": {
    "id": "7jPc659fyhBa"
   },
   "outputs": [
    {
     "data": {
      "text/plain": [
       "++                          641\n",
       "This message was deleted    563\n",
       "😂😂                          335\n",
       "😂                           302\n",
       "Yes                         291\n",
       "No                          153\n",
       "Ok                          132\n",
       "👍                           130\n",
       "https                       128\n",
       "Haan                        121\n",
       "Yeah                        118\n",
       ".                            91\n",
       "😂😂😂                          84\n",
       "+                            80\n",
       "Hmm                          64\n",
       "Okay                         58\n",
       "?                            57\n",
       "Ha                           54\n",
       "Thanks                       52\n",
       "Han                          51\n",
       "Name: message, dtype: int64"
      ]
     },
     "execution_count": 31,
     "metadata": {},
     "output_type": "execute_result"
    }
   ],
   "source": [
    "chat_df.message.value_counts()[:20]"
   ]
  },
  {
   "cell_type": "markdown",
   "metadata": {
    "id": "FTWDuqV87mwc"
   },
   "source": [
    "From above we can infere that \"++\" was the most common message in the dataset."
   ]
  },
  {
   "cell_type": "markdown",
   "metadata": {
    "id": "kB74E6EwyhBc"
   },
   "source": [
    "Let's first find out in which month the group has most messages."
   ]
  },
  {
   "cell_type": "code",
   "execution_count": 32,
   "metadata": {
    "id": "McPO5Wf2vdM9"
   },
   "outputs": [
    {
     "data": {
      "image/png": "[encoded data removed]",
      "text/plain": [
       "<Figure size 864x432 with 1 Axes>"
      ]
     },
     "metadata": {
      "needs_background": "light"
     },
     "output_type": "display_data"
    }
   ],
   "source": [
    "plt.figure(figsize=(12,6))\n",
    "sns.countplot(x='month', hue='gender', data=chat_df)\n",
    "plt.ylabel('No. of Messages');"
   ]
  },
  {
   "cell_type": "markdown",
   "metadata": {
    "id": "cH6AfEzQwW29"
   },
   "source": [
    "It seems that Feburary was the month when the group was most active. Maybe it is because we had our endsems in that month. "
   ]
  },
  {
   "cell_type": "code",
   "execution_count": 33,
   "metadata": {
    "id": "EeizSaDS_jOV"
   },
   "outputs": [
    {
     "data": {
      "text/html": [
       "<div>\n",
       "<style scoped>\n",
       "    .dataframe tbody tr th:only-of-type {\n",
       "        vertical-align: middle;\n",
       "    }\n",
       "\n",
       "    .dataframe tbody tr th {\n",
       "        vertical-align: top;\n",
       "    }\n",
       "\n",
       "    .dataframe thead th {\n",
       "        text-align: right;\n",
       "    }\n",
       "</style>\n",
       "<table border=\"1\" class=\"dataframe\">\n",
       "  <thead>\n",
       "    <tr style=\"text-align: right;\">\n",
       "      <th></th>\n",
       "      <th>date</th>\n",
       "      <th>user</th>\n",
       "      <th>message</th>\n",
       "      <th>gender</th>\n",
       "      <th>month</th>\n",
       "      <th>weekday</th>\n",
       "      <th>hour</th>\n",
       "      <th>minute</th>\n",
       "    </tr>\n",
       "  </thead>\n",
       "  <tbody>\n",
       "    <tr>\n",
       "      <th>5891</th>\n",
       "      <td>2021-02-01 12:51:00</td>\n",
       "      <td>Nilay Patel</td>\n",
       "      <td>Aaj kuch nahi hai nah?</td>\n",
       "      <td>M</td>\n",
       "      <td>2</td>\n",
       "      <td>0</td>\n",
       "      <td>12</td>\n",
       "      <td>51</td>\n",
       "    </tr>\n",
       "    <tr>\n",
       "      <th>5893</th>\n",
       "      <td>2021-02-01 12:52:00</td>\n",
       "      <td>Nilay Ganvit</td>\n",
       "      <td>Ig no Tutorial</td>\n",
       "      <td>M</td>\n",
       "      <td>2</td>\n",
       "      <td>0</td>\n",
       "      <td>12</td>\n",
       "      <td>52</td>\n",
       "    </tr>\n",
       "    <tr>\n",
       "      <th>5895</th>\n",
       "      <td>2021-02-01 12:54:00</td>\n",
       "      <td>Subha</td>\n",
       "      <td>Abe 😂😂 kya bigada usne tera😂</td>\n",
       "      <td>F</td>\n",
       "      <td>2</td>\n",
       "      <td>0</td>\n",
       "      <td>12</td>\n",
       "      <td>54</td>\n",
       "    </tr>\n",
       "    <tr>\n",
       "      <th>5896</th>\n",
       "      <td>2021-02-01 12:55:00</td>\n",
       "      <td>Umang</td>\n",
       "      <td>Tere ko tutorial chahiye thaa kya?</td>\n",
       "      <td>M</td>\n",
       "      <td>2</td>\n",
       "      <td>0</td>\n",
       "      <td>12</td>\n",
       "      <td>55</td>\n",
       "    </tr>\n",
       "    <tr>\n",
       "      <th>5898</th>\n",
       "      <td>2021-02-01 12:56:00</td>\n",
       "      <td>Sanskar</td>\n",
       "      <td>Kuchni....yuhi kuch sticker ni mila to daaldiya🤷</td>\n",
       "      <td>M</td>\n",
       "      <td>2</td>\n",
       "      <td>0</td>\n",
       "      <td>12</td>\n",
       "      <td>56</td>\n",
       "    </tr>\n",
       "    <tr>\n",
       "      <th>...</th>\n",
       "      <td>...</td>\n",
       "      <td>...</td>\n",
       "      <td>...</td>\n",
       "      <td>...</td>\n",
       "      <td>...</td>\n",
       "      <td>...</td>\n",
       "      <td>...</td>\n",
       "      <td>...</td>\n",
       "    </tr>\n",
       "    <tr>\n",
       "      <th>11201</th>\n",
       "      <td>2021-02-27 11:55:00</td>\n",
       "      <td>Nishit</td>\n",
       "      <td>This message was deleted</td>\n",
       "      <td>M</td>\n",
       "      <td>2</td>\n",
       "      <td>5</td>\n",
       "      <td>11</td>\n",
       "      <td>55</td>\n",
       "    </tr>\n",
       "    <tr>\n",
       "      <th>11202</th>\n",
       "      <td>2021-02-27 11:57:00</td>\n",
       "      <td>Jaseja Priyansh</td>\n",
       "      <td>Thanks to all 🙏</td>\n",
       "      <td>M</td>\n",
       "      <td>2</td>\n",
       "      <td>5</td>\n",
       "      <td>11</td>\n",
       "      <td>57</td>\n",
       "    </tr>\n",
       "    <tr>\n",
       "      <th>11203</th>\n",
       "      <td>2021-02-27 11:57:00</td>\n",
       "      <td>Nishit</td>\n",
       "      <td>This message was deleted</td>\n",
       "      <td>M</td>\n",
       "      <td>2</td>\n",
       "      <td>5</td>\n",
       "      <td>11</td>\n",
       "      <td>57</td>\n",
       "    </tr>\n",
       "    <tr>\n",
       "      <th>11204</th>\n",
       "      <td>2021-02-27 11:59:00</td>\n",
       "      <td>Nishit</td>\n",
       "      <td>This message was deleted</td>\n",
       "      <td>M</td>\n",
       "      <td>2</td>\n",
       "      <td>5</td>\n",
       "      <td>11</td>\n",
       "      <td>59</td>\n",
       "    </tr>\n",
       "    <tr>\n",
       "      <th>11205</th>\n",
       "      <td>2021-02-27 18:21:00</td>\n",
       "      <td>Nilay Ganvit</td>\n",
       "      <td>Does anyone wants to apply for CFA with me?</td>\n",
       "      <td>M</td>\n",
       "      <td>2</td>\n",
       "      <td>5</td>\n",
       "      <td>18</td>\n",
       "      <td>21</td>\n",
       "    </tr>\n",
       "  </tbody>\n",
       "</table>\n",
       "<p>4940 rows × 8 columns</p>\n",
       "</div>"
      ],
      "text/plain": [
       "                     date             user  \\\n",
       "5891  2021-02-01 12:51:00      Nilay Patel   \n",
       "5893  2021-02-01 12:52:00     Nilay Ganvit   \n",
       "5895  2021-02-01 12:54:00            Subha   \n",
       "5896  2021-02-01 12:55:00            Umang   \n",
       "5898  2021-02-01 12:56:00          Sanskar   \n",
       "...                   ...              ...   \n",
       "11201 2021-02-27 11:55:00           Nishit   \n",
       "11202 2021-02-27 11:57:00  Jaseja Priyansh   \n",
       "11203 2021-02-27 11:57:00           Nishit   \n",
       "11204 2021-02-27 11:59:00           Nishit   \n",
       "11205 2021-02-27 18:21:00     Nilay Ganvit   \n",
       "\n",
       "                                                message gender  month  \\\n",
       "5891                             Aaj kuch nahi hai nah?      M      2   \n",
       "5893                                     Ig no Tutorial      M      2   \n",
       "5895                       Abe 😂😂 kya bigada usne tera😂      F      2   \n",
       "5896                 Tere ko tutorial chahiye thaa kya?      M      2   \n",
       "5898   Kuchni....yuhi kuch sticker ni mila to daaldiya🤷      M      2   \n",
       "...                                                 ...    ...    ...   \n",
       "11201                          This message was deleted      M      2   \n",
       "11202                                   Thanks to all 🙏      M      2   \n",
       "11203                          This message was deleted      M      2   \n",
       "11204                          This message was deleted      M      2   \n",
       "11205       Does anyone wants to apply for CFA with me?      M      2   \n",
       "\n",
       "       weekday  hour  minute  \n",
       "5891         0    12      51  \n",
       "5893         0    12      52  \n",
       "5895         0    12      54  \n",
       "5896         0    12      55  \n",
       "5898         0    12      56  \n",
       "...        ...   ...     ...  \n",
       "11201        5    11      55  \n",
       "11202        5    11      57  \n",
       "11203        5    11      57  \n",
       "11204        5    11      59  \n",
       "11205        5    18      21  \n",
       "\n",
       "[4940 rows x 8 columns]"
      ]
     },
     "execution_count": 33,
     "metadata": {},
     "output_type": "execute_result"
    }
   ],
   "source": [
    "feb_month_df = chat_df[chat_df.month==2]\n",
    "feb_month_df"
   ]
  },
  {
   "cell_type": "code",
   "execution_count": 34,
   "metadata": {
    "id": "o2CXZZtjBq3g"
   },
   "outputs": [
    {
     "data": {
      "text/plain": [
       "array([datetime.date(2021, 2, 1), datetime.date(2021, 2, 2),\n",
       "       datetime.date(2021, 2, 3), datetime.date(2021, 2, 4),\n",
       "       datetime.date(2021, 2, 5), datetime.date(2021, 2, 6),\n",
       "       datetime.date(2021, 2, 7), datetime.date(2021, 2, 8),\n",
       "       datetime.date(2021, 2, 9), datetime.date(2021, 2, 10),\n",
       "       datetime.date(2021, 2, 11), datetime.date(2021, 2, 12),\n",
       "       datetime.date(2021, 2, 13), datetime.date(2021, 2, 14),\n",
       "       datetime.date(2021, 2, 15), datetime.date(2021, 2, 16),\n",
       "       datetime.date(2021, 2, 17), datetime.date(2021, 2, 18),\n",
       "       datetime.date(2021, 2, 19), datetime.date(2021, 2, 20),\n",
       "       datetime.date(2021, 2, 21), datetime.date(2021, 2, 22),\n",
       "       datetime.date(2021, 2, 23), datetime.date(2021, 2, 24),\n",
       "       datetime.date(2021, 2, 25), datetime.date(2021, 2, 26),\n",
       "       datetime.date(2021, 2, 27)], dtype=object)"
      ]
     },
     "execution_count": 34,
     "metadata": {},
     "output_type": "execute_result"
    }
   ],
   "source": [
    "feb_month_df.date.dt.date.unique()"
   ]
  },
  {
   "cell_type": "markdown",
   "metadata": {
    "id": "XNDuhJUqyY3r"
   },
   "source": [
    "Plotting a graph specific for February month, which will show datewise messages in the group."
   ]
  },
  {
   "cell_type": "code",
   "execution_count": 35,
   "metadata": {
    "id": "ipuLF_kg_uMq"
   },
   "outputs": [
    {
     "data": {
      "image/png": "[encoded data removed]",
      "text/plain": [
       "<Figure size 1080x720 with 1 Axes>"
      ]
     },
     "metadata": {
      "needs_background": "light"
     },
     "output_type": "display_data"
    }
   ],
   "source": [
    "plt.figure(figsize=(15, 10))\n",
    "plt.xticks(rotation=0)\n",
    "plt.plot(feb_month_df.date.dt.date.unique(), feb_month_df.groupby(feb_month_df.date.dt.date).month.value_counts(), marker='s', color='black', ls='--');"
   ]
  },
  {
   "cell_type": "markdown",
   "metadata": {
    "id": "mi6QW3CyyhBg"
   },
   "source": [
    "## Asking and Answering Questions\n",
    "\n",
    "Now we will be answering some questions related to the dataset by plotting graphs and doing some operations on columns of dataframe."
   ]
  },
  {
   "cell_type": "markdown",
   "metadata": {
    "id": "b9_Z0K3syhBh"
   },
   "source": [
    "### Ques 1 - Who is the most active and least active member of the group?\n",
    "Let's findout this by plotting the graph.\n",
    "\n",
    "\n",
    "\n"
   ]
  },
  {
   "cell_type": "code",
   "execution_count": 36,
   "metadata": {
    "id": "P1h-ZC1yyhBi"
   },
   "outputs": [
    {
     "data": {
      "text/plain": [
       "Srinikhita            8\n",
       "Bhanu Nayak          28\n",
       "Subha               735\n",
       "Mir                 503\n",
       "Jaseja Priyansh    1004\n",
       "Name: user, dtype: int64"
      ]
     },
     "execution_count": 36,
     "metadata": {},
     "output_type": "execute_result"
    }
   ],
   "source": [
    "msgs_by_the_user = chat_df.user.value_counts()\n",
    "msgs_by_the_user.sample(5)"
   ]
  },
  {
   "cell_type": "code",
   "execution_count": 37,
   "metadata": {
    "id": "WjWih7HoyhBi"
   },
   "outputs": [
    {
     "data": {
      "image/png": "[encoded data removed]",
      "text/plain": [
       "<Figure size 720x1080 with 1 Axes>"
      ]
     },
     "metadata": {
      "needs_background": "light"
     },
     "output_type": "display_data"
    }
   ],
   "source": [
    "plt.figure(figsize=(10, 15))\n",
    "sns.barplot(y=msgs_by_the_user.index, x=msgs_by_the_user[msgs_by_the_user.index])\n",
    "plt.xlabel('Count')\n",
    "plt.ylabel('User');"
   ]
  },
  {
   "cell_type": "markdown",
   "metadata": {
    "id": "oD4p4Khm-nWD"
   },
   "source": [
    "**Note** That in above graph those messages aren't included which contains media, only the text messages are considered."
   ]
  },
  {
   "cell_type": "markdown",
   "metadata": {
    "id": "ZQDYTUr01d6o"
   },
   "source": [
    "Let's take the discussion towards a more specific messages i.e. Deleted Messages. We will be plotting the same graph to know who deletes the meassages most?"
   ]
  },
  {
   "cell_type": "code",
   "execution_count": 38,
   "metadata": {
    "id": "Ds0mHjpN1dTo"
   },
   "outputs": [],
   "source": [
    "deleted_msgs_df = chat_df[(chat_df.message=='This message was deleted')|(chat_df.message=='You deleted this message')]\n",
    "list_del = deleted_msgs_df.user.value_counts()"
   ]
  },
  {
   "cell_type": "code",
   "execution_count": 39,
   "metadata": {
    "id": "bUDg-xRY2v4P"
   },
   "outputs": [
    {
     "data": {
      "image/png": "[encoded data removed]",
      "text/plain": [
       "<Figure size 1440x720 with 1 Axes>"
      ]
     },
     "metadata": {
      "needs_background": "light"
     },
     "output_type": "display_data"
    }
   ],
   "source": [
    "plt.figure(figsize=(20, 10))\n",
    "sns.barplot(y=list_del[list_del.index], x=list_del.index)\n",
    "plt.xticks(rotation=75)\n",
    "plt.xlabel('User')\n",
    "plt.ylabel('No. of Messages Deleted');"
   ]
  },
  {
   "cell_type": "markdown",
   "metadata": {
    "id": "2SfiRLC7yhBj"
   },
   "source": [
    "### Ques 2 - Which day the group remains most active?"
   ]
  },
  {
   "cell_type": "code",
   "execution_count": 40,
   "metadata": {
    "id": "A-RNrXi_LR7e"
   },
   "outputs": [
    {
     "data": {
      "image/png": "[encoded data removed]",
      "text/plain": [
       "<Figure size 864x720 with 1 Axes>"
      ]
     },
     "metadata": {
      "needs_background": "light"
     },
     "output_type": "display_data"
    }
   ],
   "source": [
    "plt.figure(figsize=(12, 10))\n",
    "sns.countplot(x=chat_df.weekday, hue=chat_df.gender)\n",
    "plt.ylabel('Messages');"
   ]
  },
  {
   "cell_type": "markdown",
   "metadata": {
    "id": "o-pE9zDKNZnW"
   },
   "source": [
    "**NOTE** - Here 0 represents Monday, 1 Tuesday and so on..... "
   ]
  },
  {
   "cell_type": "markdown",
   "metadata": {
    "id": "wRO2hCMpNjrr"
   },
   "source": [
    "On observing the graph, the group is least active on sunday and saturday. The result is also quiet expected because we have holidays of college on the weekends so everyone is busy with there work and no discussion on classes. "
   ]
  },
  {
   "cell_type": "markdown",
   "metadata": {
    "id": "xgSw_C_eyhBk"
   },
   "source": [
    "### Ques 3 - Distribution of users with weekdays on basis of there meassages."
   ]
  },
  {
   "cell_type": "code",
   "execution_count": 41,
   "metadata": {
    "id": "8w8dNMMA-nOF"
   },
   "outputs": [],
   "source": [
    "series = chat_df.groupby('weekday').user.value_counts()\n",
    "x_df = series.to_frame(name='msgs')\n",
    "x_df = x_df.reset_index(level=0)\n",
    "x_df['user'] = x_df.index\n",
    "x_df.reset_index(drop=True, inplace=True)"
   ]
  },
  {
   "cell_type": "code",
   "execution_count": 42,
   "metadata": {
    "id": "nOP2HQ2m-nMb"
   },
   "outputs": [
    {
     "data": {
      "text/html": [
       "<div>\n",
       "<style scoped>\n",
       "    .dataframe tbody tr th:only-of-type {\n",
       "        vertical-align: middle;\n",
       "    }\n",
       "\n",
       "    .dataframe tbody tr th {\n",
       "        vertical-align: top;\n",
       "    }\n",
       "\n",
       "    .dataframe thead th {\n",
       "        text-align: right;\n",
       "    }\n",
       "</style>\n",
       "<table border=\"1\" class=\"dataframe\">\n",
       "  <thead>\n",
       "    <tr style=\"text-align: right;\">\n",
       "      <th>user</th>\n",
       "      <th>Akshay</th>\n",
       "      <th>Bhanu Nayak</th>\n",
       "      <th>Dinesh Kumar</th>\n",
       "      <th>Jaseja Priyansh</th>\n",
       "      <th>Krishna</th>\n",
       "      <th>Lohith</th>\n",
       "      <th>Mayank</th>\n",
       "      <th>Mihir</th>\n",
       "      <th>Mir</th>\n",
       "      <th>Mitika</th>\n",
       "      <th>...</th>\n",
       "      <th>Saurabh</th>\n",
       "      <th>Shruti</th>\n",
       "      <th>Shubham</th>\n",
       "      <th>Srinikhita</th>\n",
       "      <th>Subha</th>\n",
       "      <th>Umang</th>\n",
       "      <th>Vansh</th>\n",
       "      <th>Vihaan</th>\n",
       "      <th>Vipul</th>\n",
       "      <th>Wanhar</th>\n",
       "    </tr>\n",
       "    <tr>\n",
       "      <th>weekday</th>\n",
       "      <th></th>\n",
       "      <th></th>\n",
       "      <th></th>\n",
       "      <th></th>\n",
       "      <th></th>\n",
       "      <th></th>\n",
       "      <th></th>\n",
       "      <th></th>\n",
       "      <th></th>\n",
       "      <th></th>\n",
       "      <th></th>\n",
       "      <th></th>\n",
       "      <th></th>\n",
       "      <th></th>\n",
       "      <th></th>\n",
       "      <th></th>\n",
       "      <th></th>\n",
       "      <th></th>\n",
       "      <th></th>\n",
       "      <th></th>\n",
       "      <th></th>\n",
       "    </tr>\n",
       "  </thead>\n",
       "  <tbody>\n",
       "    <tr>\n",
       "      <th>0</th>\n",
       "      <td>0.0</td>\n",
       "      <td>2.0</td>\n",
       "      <td>0.0</td>\n",
       "      <td>110.0</td>\n",
       "      <td>0.0</td>\n",
       "      <td>31.0</td>\n",
       "      <td>44.0</td>\n",
       "      <td>9.0</td>\n",
       "      <td>66.0</td>\n",
       "      <td>39.0</td>\n",
       "      <td>...</td>\n",
       "      <td>75.0</td>\n",
       "      <td>4.0</td>\n",
       "      <td>79.0</td>\n",
       "      <td>0.0</td>\n",
       "      <td>74.0</td>\n",
       "      <td>88.0</td>\n",
       "      <td>38.0</td>\n",
       "      <td>127.0</td>\n",
       "      <td>26.0</td>\n",
       "      <td>78.0</td>\n",
       "    </tr>\n",
       "    <tr>\n",
       "      <th>1</th>\n",
       "      <td>1.0</td>\n",
       "      <td>6.0</td>\n",
       "      <td>3.0</td>\n",
       "      <td>209.0</td>\n",
       "      <td>1.0</td>\n",
       "      <td>43.0</td>\n",
       "      <td>172.0</td>\n",
       "      <td>39.0</td>\n",
       "      <td>75.0</td>\n",
       "      <td>50.0</td>\n",
       "      <td>...</td>\n",
       "      <td>62.0</td>\n",
       "      <td>12.0</td>\n",
       "      <td>165.0</td>\n",
       "      <td>1.0</td>\n",
       "      <td>123.0</td>\n",
       "      <td>160.0</td>\n",
       "      <td>52.0</td>\n",
       "      <td>261.0</td>\n",
       "      <td>32.0</td>\n",
       "      <td>57.0</td>\n",
       "    </tr>\n",
       "    <tr>\n",
       "      <th>2</th>\n",
       "      <td>0.0</td>\n",
       "      <td>7.0</td>\n",
       "      <td>1.0</td>\n",
       "      <td>161.0</td>\n",
       "      <td>3.0</td>\n",
       "      <td>20.0</td>\n",
       "      <td>52.0</td>\n",
       "      <td>35.0</td>\n",
       "      <td>95.0</td>\n",
       "      <td>45.0</td>\n",
       "      <td>...</td>\n",
       "      <td>81.0</td>\n",
       "      <td>7.0</td>\n",
       "      <td>145.0</td>\n",
       "      <td>0.0</td>\n",
       "      <td>98.0</td>\n",
       "      <td>111.0</td>\n",
       "      <td>86.0</td>\n",
       "      <td>194.0</td>\n",
       "      <td>23.0</td>\n",
       "      <td>35.0</td>\n",
       "    </tr>\n",
       "    <tr>\n",
       "      <th>3</th>\n",
       "      <td>0.0</td>\n",
       "      <td>6.0</td>\n",
       "      <td>16.0</td>\n",
       "      <td>201.0</td>\n",
       "      <td>2.0</td>\n",
       "      <td>30.0</td>\n",
       "      <td>117.0</td>\n",
       "      <td>40.0</td>\n",
       "      <td>129.0</td>\n",
       "      <td>44.0</td>\n",
       "      <td>...</td>\n",
       "      <td>92.0</td>\n",
       "      <td>22.0</td>\n",
       "      <td>151.0</td>\n",
       "      <td>6.0</td>\n",
       "      <td>203.0</td>\n",
       "      <td>195.0</td>\n",
       "      <td>149.0</td>\n",
       "      <td>194.0</td>\n",
       "      <td>42.0</td>\n",
       "      <td>71.0</td>\n",
       "    </tr>\n",
       "    <tr>\n",
       "      <th>4</th>\n",
       "      <td>2.0</td>\n",
       "      <td>6.0</td>\n",
       "      <td>6.0</td>\n",
       "      <td>149.0</td>\n",
       "      <td>1.0</td>\n",
       "      <td>40.0</td>\n",
       "      <td>70.0</td>\n",
       "      <td>35.0</td>\n",
       "      <td>41.0</td>\n",
       "      <td>31.0</td>\n",
       "      <td>...</td>\n",
       "      <td>69.0</td>\n",
       "      <td>7.0</td>\n",
       "      <td>159.0</td>\n",
       "      <td>1.0</td>\n",
       "      <td>143.0</td>\n",
       "      <td>88.0</td>\n",
       "      <td>72.0</td>\n",
       "      <td>182.0</td>\n",
       "      <td>24.0</td>\n",
       "      <td>47.0</td>\n",
       "    </tr>\n",
       "    <tr>\n",
       "      <th>5</th>\n",
       "      <td>0.0</td>\n",
       "      <td>0.0</td>\n",
       "      <td>3.0</td>\n",
       "      <td>102.0</td>\n",
       "      <td>0.0</td>\n",
       "      <td>4.0</td>\n",
       "      <td>114.0</td>\n",
       "      <td>34.0</td>\n",
       "      <td>72.0</td>\n",
       "      <td>3.0</td>\n",
       "      <td>...</td>\n",
       "      <td>45.0</td>\n",
       "      <td>0.0</td>\n",
       "      <td>101.0</td>\n",
       "      <td>0.0</td>\n",
       "      <td>69.0</td>\n",
       "      <td>130.0</td>\n",
       "      <td>37.0</td>\n",
       "      <td>103.0</td>\n",
       "      <td>73.0</td>\n",
       "      <td>24.0</td>\n",
       "    </tr>\n",
       "    <tr>\n",
       "      <th>6</th>\n",
       "      <td>0.0</td>\n",
       "      <td>1.0</td>\n",
       "      <td>5.0</td>\n",
       "      <td>72.0</td>\n",
       "      <td>0.0</td>\n",
       "      <td>2.0</td>\n",
       "      <td>28.0</td>\n",
       "      <td>44.0</td>\n",
       "      <td>25.0</td>\n",
       "      <td>7.0</td>\n",
       "      <td>...</td>\n",
       "      <td>36.0</td>\n",
       "      <td>0.0</td>\n",
       "      <td>35.0</td>\n",
       "      <td>0.0</td>\n",
       "      <td>25.0</td>\n",
       "      <td>34.0</td>\n",
       "      <td>11.0</td>\n",
       "      <td>54.0</td>\n",
       "      <td>27.0</td>\n",
       "      <td>26.0</td>\n",
       "    </tr>\n",
       "  </tbody>\n",
       "</table>\n",
       "<p>7 rows × 38 columns</p>\n",
       "</div>"
      ],
      "text/plain": [
       "user     Akshay  Bhanu Nayak  Dinesh Kumar  Jaseja Priyansh  Krishna  Lohith  \\\n",
       "weekday                                                                        \n",
       "0           0.0          2.0           0.0            110.0      0.0    31.0   \n",
       "1           1.0          6.0           3.0            209.0      1.0    43.0   \n",
       "2           0.0          7.0           1.0            161.0      3.0    20.0   \n",
       "3           0.0          6.0          16.0            201.0      2.0    30.0   \n",
       "4           2.0          6.0           6.0            149.0      1.0    40.0   \n",
       "5           0.0          0.0           3.0            102.0      0.0     4.0   \n",
       "6           0.0          1.0           5.0             72.0      0.0     2.0   \n",
       "\n",
       "user     Mayank  Mihir    Mir  Mitika  ...  Saurabh  Shruti  Shubham  \\\n",
       "weekday                                ...                             \n",
       "0          44.0    9.0   66.0    39.0  ...     75.0     4.0     79.0   \n",
       "1         172.0   39.0   75.0    50.0  ...     62.0    12.0    165.0   \n",
       "2          52.0   35.0   95.0    45.0  ...     81.0     7.0    145.0   \n",
       "3         117.0   40.0  129.0    44.0  ...     92.0    22.0    151.0   \n",
       "4          70.0   35.0   41.0    31.0  ...     69.0     7.0    159.0   \n",
       "5         114.0   34.0   72.0     3.0  ...     45.0     0.0    101.0   \n",
       "6          28.0   44.0   25.0     7.0  ...     36.0     0.0     35.0   \n",
       "\n",
       "user     Srinikhita  Subha  Umang  Vansh  Vihaan  Vipul  Wanhar  \n",
       "weekday                                                          \n",
       "0               0.0   74.0   88.0   38.0   127.0   26.0    78.0  \n",
       "1               1.0  123.0  160.0   52.0   261.0   32.0    57.0  \n",
       "2               0.0   98.0  111.0   86.0   194.0   23.0    35.0  \n",
       "3               6.0  203.0  195.0  149.0   194.0   42.0    71.0  \n",
       "4               1.0  143.0   88.0   72.0   182.0   24.0    47.0  \n",
       "5               0.0   69.0  130.0   37.0   103.0   73.0    24.0  \n",
       "6               0.0   25.0   34.0   11.0    54.0   27.0    26.0  \n",
       "\n",
       "[7 rows x 38 columns]"
      ]
     },
     "execution_count": 42,
     "metadata": {},
     "output_type": "execute_result"
    }
   ],
   "source": [
    "ydf = x_df.pivot('weekday', 'user', 'msgs')\n",
    "ydf.replace(to_replace=np.nan, value=0)"
   ]
  },
  {
   "cell_type": "code",
   "execution_count": 43,
   "metadata": {
    "id": "8XzTszHP-nKY"
   },
   "outputs": [
    {
     "data": {
      "image/png": "[encoded data removed]",
      "text/plain": [
       "<Figure size 1440x216 with 2 Axes>"
      ]
     },
     "metadata": {
      "needs_background": "light"
     },
     "output_type": "display_data"
    }
   ],
   "source": [
    "plt.figure(figsize=(20,3))\n",
    "sns.heatmap(ydf, cmap='Blues')\n",
    "plt.title('Daywise Distribution');"
   ]
  },
  {
   "cell_type": "markdown",
   "metadata": {
    "id": "MKmVezvIyhBm"
   },
   "source": [
    "### Ques 4 - Which emojis were most used?"
   ]
  },
  {
   "cell_type": "code",
   "execution_count": 44,
   "metadata": {
    "id": "MHauct53yhBn"
   },
   "outputs": [],
   "source": [
    "all_char_msgs = []\n",
    "for line in chat_df.message:\n",
    "  arr = str(line).split(' ')\n",
    "  for word in arr:\n",
    "    for char in word:\n",
    "      all_char_msgs.append(char)"
   ]
  },
  {
   "cell_type": "code",
   "execution_count": 45,
   "metadata": {
    "id": "2d6af-0RHiI3"
   },
   "outputs": [
    {
     "data": {
      "text/plain": [
       "a    46422\n",
       "e    40947\n",
       "i    30569\n",
       "t    27254\n",
       "h    25514\n",
       "     ...  \n",
       "⠆        1\n",
       "🦸        1\n",
       "ˇ        1\n",
       "😹        1\n",
       "👊        1\n",
       "Length: 386, dtype: int64"
      ]
     },
     "execution_count": 45,
     "metadata": {},
     "output_type": "execute_result"
    }
   ],
   "source": [
    "count = pd.Series(all_char_msgs).value_counts()\n",
    "count"
   ]
  },
  {
   "cell_type": "code",
   "execution_count": 46,
   "metadata": {
    "id": "HT34rzCKyhBn"
   },
   "outputs": [
    {
     "data": {
      "text/plain": [
       "[('😂', 3488),\n",
       " ('🤣', 508),\n",
       " ('👍', 500),\n",
       " ('🔥', 380),\n",
       " ('😅', 324),\n",
       " ('😭', 237),\n",
       " ('🏻', 220),\n",
       " ('😑', 171),\n",
       " ('🤦', 129)]"
      ]
     },
     "execution_count": 46,
     "metadata": {},
     "output_type": "execute_result"
    }
   ],
   "source": [
    "new_list = {}\n",
    "for char in count.index:\n",
    "  z = int(ord(char))\n",
    "  if (z>=97 and z<=122) or (z>=65 and z<=90):\n",
    "    pass\n",
    "  elif z>=120000:\n",
    "    new_list[char]=count[char]\n",
    "sorted(new_list.items(), key=lambda item: item[1], reverse=True)[:9]"
   ]
  },
  {
   "cell_type": "markdown",
   "metadata": {
    "id": "XxXIeMzBPEak"
   },
   "source": [
    "This '😂' was most used about 3000+ times. Wow! \n",
    "\n",
    "Next most commonly used was this '🤣'. Both are of laughing face"
   ]
  },
  {
   "cell_type": "markdown",
   "metadata": {
    "id": "X_S2pMdIyhBo"
   },
   "source": [
    "### Ques 5 - What are the words which are most frequently used while chatting?"
   ]
  },
  {
   "cell_type": "code",
   "execution_count": 47,
   "metadata": {
    "id": "aztzT58tQbEG"
   },
   "outputs": [],
   "source": [
    "list_of_words = []\n",
    "for line in chat_df.message:\n",
    "  arr = str(line).split(' ')\n",
    "  for word in arr:\n",
    "    list_of_words.append(word)"
   ]
  },
  {
   "cell_type": "code",
   "execution_count": 48,
   "metadata": {
    "id": "X4ItP_aQRQy-"
   },
   "outputs": [
    {
     "data": {
      "text/plain": [
       "to               1531\n",
       "the              1393\n",
       "hai              1305\n",
       "is               1054\n",
       "I                 912\n",
       "                 ... \n",
       "se....capital       1\n",
       "karke😕              1\n",
       "309                 1\n",
       "points\"             1\n",
       "rah😂😂               1\n",
       "Length: 16390, dtype: int64"
      ]
     },
     "execution_count": 48,
     "metadata": {},
     "output_type": "execute_result"
    }
   ],
   "source": [
    "list_of_words = pd.Series(list_of_words)\n",
    "list_of_words.value_counts()"
   ]
  },
  {
   "cell_type": "code",
   "execution_count": 49,
   "metadata": {
    "id": "IKTqPbTgyhBo"
   },
   "outputs": [
    {
     "data": {
      "text/plain": [
       "++                                                641\n",
       "This message was deleted                          563\n",
       "😂😂                                                335\n",
       "😂                                                 302\n",
       "Yes                                               291\n",
       "                                                 ... \n",
       "😯                                                   1\n",
       "bas bhai                                            1\n",
       "Grid banani hai?                                    1\n",
       "outline keliye...sir ne class me bataya tha na      1\n",
       "Aaj dusri h 10 baje                                 1\n",
       "Name: message, Length: 16538, dtype: int64"
      ]
     },
     "execution_count": 49,
     "metadata": {},
     "output_type": "execute_result"
    }
   ],
   "source": [
    "chat_df.message.value_counts()"
   ]
  },
  {
   "cell_type": "markdown",
   "metadata": {
    "id": "PVHISN1JLyez"
   },
   "source": [
    "LOL '++' was the most common alone message to be done... XD and \"to\" was the most common word used in the mesaages.\n",
    "\n",
    "Let's make a word-cloud image of these words"
   ]
  },
  {
   "cell_type": "code",
   "execution_count": 50,
   "metadata": {
    "id": "vEMaOH9GQQkK"
   },
   "outputs": [],
   "source": [
    "def make_string(x):\n",
    "  a=' '\n",
    "  for word in x:\n",
    "    a = a + str(word) + ' '\n",
    "  return a"
   ]
  },
  {
   "cell_type": "code",
   "execution_count": 51,
   "metadata": {
    "id": "h4CLBMgOyhBp"
   },
   "outputs": [
    {
     "data": {
      "image/png": "[encoded data removed]",
      "text/plain": [
       "<PIL.Image.Image image mode=RGB size=800x800 at 0x7F5B084DC5E0>"
      ]
     },
     "execution_count": 51,
     "metadata": {},
     "output_type": "execute_result"
    }
   ],
   "source": [
    "img = WordCloud(width=800, \n",
    "                height=800, \n",
    "                background_color='black', \n",
    "                min_font_size=10).generate(make_string(list_of_words.value_counts().index[0:1000]))\n",
    "img.to_image()"
   ]
  },
  {
   "cell_type": "markdown",
   "metadata": {
    "id": "PwTAlUnIyhBp"
   },
   "source": [
    "Let us save and upload our work to Jovian before continuing."
   ]
  },
  {
   "cell_type": "markdown",
   "metadata": {
    "id": "YpsT0n15yhBr"
   },
   "source": [
    "## Inferences and Conclusion\n",
    "\n",
    "So while answering these questions we can makeout several conclusions -\n",
    "* In the group there are some peeps whom have done 2500 plus messages whereas on other hand we also have some whom have not even done five messages.\n",
    "* Group remains most active on weekdays more specifically on Thursday and is least active on weekends.\n",
    "* Tone of writing mostly was neutral, friendly and informal. \n",
    "\n",
    "\n"
   ]
  },
  {
   "cell_type": "markdown",
   "metadata": {
    "id": "iIp0xMhKyhBt"
   },
   "source": [
    "## References and Future Work\n",
    "So this was my Whatsapp Chat analysis. You can do a similar analysis with other apps data such as facebook, instagram and many more apps which provides the data to the user.\n",
    "\n",
    "#### Refrences\n",
    "*   https://pandas.pydata.org/\n",
    "*   https://matplotlib.org/\n",
    "*   https://seaborn.pydata.org/\n",
    "\n",
    "\n",
    "\n"
   ]
  },
  {
   "cell_type": "code",
   "execution_count": 52,
   "metadata": {
    "id": "MmRfl2pGyhBu"
   },
   "outputs": [],
   "source": [
    "import jovian"
   ]
  },
  {
   "cell_type": "code",
   "execution_count": 53,
   "metadata": {
    "id": "ChiwhXjiyhBv",
    "scrolled": true
   },
   "outputs": [
    {
     "data": {
      "application/javascript": [
       "window.require && require([\"base/js/namespace\"],function(Jupyter){Jupyter.notebook.save_checkpoint()})"
      ],
      "text/plain": [
       "<IPython.core.display.Javascript object>"
      ]
     },
     "metadata": {},
     "output_type": "display_data"
    },
    {
     "name": "stdout",
     "output_type": "stream",
     "text": [
      "[jovian] Attempting to save notebook..\u001b[0m\n",
      "[jovian] Updating notebook \"pjaseja11/zerotopandas-course-project\" on https://jovian.ai\u001b[0m\n",
      "[jovian] Uploading notebook..\u001b[0m\n",
      "[jovian] Committed successfully! https://jovian.ai/pjaseja11/zerotopandas-course-project\u001b[0m\n"
     ]
    },
    {
     "data": {
      "text/plain": [
       "'https://jovian.ai/pjaseja11/zerotopandas-course-project'"
      ]
     },
     "execution_count": 53,
     "metadata": {},
     "output_type": "execute_result"
    }
   ],
   "source": [
    "jovian.commit()"
   ]
  },
  {
   "cell_type": "code",
   "execution_count": null,
   "metadata": {},
   "outputs": [
    {
     "data": {
      "application/javascript": [
       "window.require && require([\"base/js/namespace\"],function(Jupyter){Jupyter.notebook.save_checkpoint()})"
      ],
      "text/plain": [
       "<IPython.core.display.Javascript object>"
      ]
     },
     "metadata": {},
     "output_type": "display_data"
    },
    {
     "name": "stdout",
     "output_type": "stream",
     "text": [
      "[jovian] Attempting to save notebook..\u001b[0m\n"
     ]
    }
   ],
   "source": [
    "jovian.submit(assignment=\"zero-to-pandas-project\")"
   ]
  },
  {
   "cell_type": "code",
   "execution_count": null,
   "metadata": {},
   "outputs": [],
   "source": []
  }
 ],
 "metadata": {
  "colab": {
   "collapsed_sections": [],
   "name": "zerotopandas-course-project.ipynb",
   "provenance": []
  },
  "kernelspec": {
   "display_name": "Python 3",
   "language": "python",
   "name": "python3"
  },
  "language_info": {
   "codemirror_mode": {
    "name": "ipython",
    "version": 3
   },
   "file_extension": ".py",
   "mimetype": "text/x-python",
   "name": "python",
   "nbconvert_exporter": "python",
   "pygments_lexer": "ipython3",
   "version": "3.8.6"
  }
 },
 "nbformat": 4,
 "nbformat_minor": 1
}
